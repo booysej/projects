{
    "cells": [
        {
            "cell_type": "markdown",
            "id": "58a96097",
            "metadata": {
                "papermill": {
                    "duration": 0.011186,
                    "end_time": "2022-04-05T09:21:38.859203",
                    "exception": false,
                    "start_time": "2022-04-05T09:21:38.848017",
                    "status": "completed"
                },
                "tags": []
            },
            "source": [
                "To run this locally, [install Ploomber](https://docs.ploomber.io/en/latest/get-started/quick-start.html) and execute: `ploomber examples -n cookbook/streamlit-sample-app`\n",
                "\n",
                "[![binder-logo](https://raw.githubusercontent.com/ploomber/projects/master/_static/open-in-jupyterlab.svg)](https://binder.ploomber.io/v2/gh/ploomber/binder-env/main?urlpath=git-pull%3Frepo%3Dhttps%253A%252F%252Fgithub.com%252Fploomber%252Fprojects%26urlpath%3Dlab%252Ftree%252Fprojects%252Fcookbook/streamlit-sample-app%252FREADME.ipynb%26branch%3Dmaster)\n",
                "\n",
                "Found an issue? [Let us know.](https://github.com/ploomber/projects/issues/new?title=cookbook/streamlit-sample-app%20issue)\n",
                "\n",
                "Questions? [Ask us on Slack.](https://ploomber.io/community/)\n"
            ]
        },
        {
            "cell_type": "markdown",
            "id": "d17b3f9b",
            "metadata": {
                "papermill": {
                    "duration": 0.003371,
                    "end_time": "2022-04-05T09:21:38.866569",
                    "exception": false,
                    "start_time": "2022-04-05T09:21:38.863198",
                    "status": "completed"
                },
                "tags": []
            },
            "source": [
                "# Streamlit sample integration\n",
                "\n",
                "<!-- start description -->\n",
                "Sample pipeline to profile penguins data, raw and clean.\n",
                "Once the pipeline is ready you can launch the streamlit application to \n",
                "visualize the results.\n",
                "<!-- end description -->\n",
                "\n",
                "It contains two tasks, get and clean the data:"
            ]
        },
        {
            "cell_type": "markdown",
            "id": "83708c49",
            "metadata": {
                "papermill": {
                    "duration": 0.002577,
                    "end_time": "2022-04-05T09:21:38.872218",
                    "exception": false,
                    "start_time": "2022-04-05T09:21:38.869641",
                    "status": "completed"
                },
                "region_name": "md",
                "tags": []
            },
            "source": [
                "```yaml\n",
                "# Content of pipeline.yaml\n",
                "tasks:\n",
                "  - source: scripts/get.py\n",
                "    product:\n",
                "      nb: products/get.html\n",
                "      data: products/raw.csv\n",
                "\n",
                "  - source: scripts/clean.py\n",
                "    product:\n",
                "      nb: products/clean.html\n",
                "      data: products/clean.csv\n",
                "\n",
                "```"
            ]
        },
        {
            "cell_type": "markdown",
            "id": "73c47b2b",
            "metadata": {
                "papermill": {
                    "duration": 0.002237,
                    "end_time": "2022-04-05T09:21:38.878446",
                    "exception": false,
                    "start_time": "2022-04-05T09:21:38.876209",
                    "status": "completed"
                },
                "tags": []
            },
            "source": [
                "Generate the plot (note that this requires `pygraphviz`, you can skip this if you want):"
            ]
        },
        {
            "cell_type": "markdown",
            "id": "1c99663e",
            "metadata": {
                "lines_to_next_cell": 2,
                "papermill": {
                    "duration": 0.002509,
                    "end_time": "2022-04-05T09:21:38.883696",
                    "exception": false,
                    "start_time": "2022-04-05T09:21:38.881187",
                    "status": "completed"
                },
                "region_name": "md",
                "tags": []
            },
            "source": [
                "```sh\n",
                "ploomber plot\n",
                "```"
            ]
        },
        {
            "cell_type": "markdown",
            "id": "56b11c33",
            "metadata": {
                "papermill": {
                    "duration": 0.001922,
                    "end_time": "2022-04-05T09:21:38.888793",
                    "exception": false,
                    "start_time": "2022-04-05T09:21:38.886871",
                    "status": "completed"
                },
                "tags": []
            },
            "source": [
                "Open the `pipeline.png` file to see the diagram.\n",
                "\n",
                "## Build pipeline"
            ]
        },
        {
            "cell_type": "code",
            "execution_count": 1,
            "id": "106b916a",
            "metadata": {
                "execution": {
                    "iopub.execute_input": "2022-04-05T09:21:38.894079Z",
                    "iopub.status.busy": "2022-04-05T09:21:38.893588Z",
                    "iopub.status.idle": "2022-04-05T09:21:49.095486Z",
                    "shell.execute_reply": "2022-04-05T09:21:49.094757Z"
                },
                "papermill": {
                    "duration": 10.207159,
                    "end_time": "2022-04-05T09:21:49.097686",
                    "exception": false,
                    "start_time": "2022-04-05T09:21:38.890527",
                    "status": "completed"
                },
                "tags": []
            },
            "outputs": [
                {
                    "name": "stdout",
                    "output_type": "stream",
                    "text": [
                        "Loading pipeline...\n"
                    ]
                },
                {
                    "name": "stderr",
                    "output_type": "stream",
                    "text": [
                        "Building task 'get':   0%|          | 0/2 [00:00<?, ?it/s]\n",
                        "Executing:   0%|          | 0/6 [00:00<?, ?cell/s]\n",
                        "Executing:  17%|█▋        | 1/6 [00:01<00:07,  1.44s/cell]\n",
                        "Executing:  33%|███▎      | 2/6 [00:03<00:06,  1.70s/cell]\n",
                        "Executing: 100%|██████████| 6/6 [00:06<00:00,  1.02s/cell]\n",
                        "Building task 'clean':  50%|█████     | 1/2 [00:06<00:06,  6.74s/it]\n",
                        "Executing:   0%|          | 0/10 [00:00<?, ?cell/s]\n",
                        "Executing:  10%|█         | 1/10 [00:01<00:10,  1.19s/cell]\n",
                        "Executing:  20%|██        | 2/10 [00:01<00:06,  1.28cell/s]\n",
                        "Executing: 100%|██████████| 10/10 [00:02<00:00,  4.69cell/s]\n",
                        "Building task 'clean': 100%|██████████| 2/2 [00:09<00:00,  4.71s/it]\n"
                    ]
                },
                {
                    "name": "stdout",
                    "output_type": "stream",
                    "text": [
                        "name    Ran?      Elapsed (s)    Percentage\n",
                        "------  ------  -------------  ------------\n",
                        "get     True          6.72964       71.5321\n",
                        "clean   True          2.67822       28.4679\n"
                    ]
                }
            ],
            "source": [
                "%%sh\n",
                "ploomber build"
            ]
        },
        {
            "cell_type": "markdown",
            "id": "68aa9486",
            "metadata": {
                "lines_to_next_cell": 0,
                "papermill": {
                    "duration": 0.001695,
                    "end_time": "2022-04-05T09:21:49.101428",
                    "exception": false,
                    "start_time": "2022-04-05T09:21:49.099733",
                    "status": "completed"
                },
                "tags": []
            },
            "source": [
                "Each task generates a CSV data file, go to the `products/` directory after\n",
                "building the pipeline to see them.\n",
                "\n",
                "Now we'll run the webapp (it takes ~1 minute)"
            ]
        },
        {
            "cell_type": "code",
            "execution_count": 2,
            "id": "5bc4550c",
            "metadata": {
                "execution": {
                    "iopub.execute_input": "2022-04-05T09:21:49.107574Z",
                    "iopub.status.busy": "2022-04-05T09:21:49.106817Z",
                    "iopub.status.idle": "2022-04-05T09:21:49.121817Z",
                    "shell.execute_reply": "2022-04-05T09:21:49.121077Z"
                },
                "papermill": {
                    "duration": 0.020895,
                    "end_time": "2022-04-05T09:21:49.123996",
                    "exception": false,
                    "start_time": "2022-04-05T09:21:49.103101",
                    "status": "completed"
                },
                "tags": []
            },
            "outputs": [
                {
                    "name": "stderr",
                    "output_type": "stream",
                    "text": [
                        "sh: /usr/local/bin/streamlit: /usr/local/opt/python@3.10/bin/python3.10: bad interpreter: No such file or directory\n"
                    ]
                },
                {
                    "ename": "CalledProcessError",
                    "evalue": "Command 'b'streamlit run st_app.py\\n'' returned non-zero exit status 126.",
                    "output_type": "error",
                    "traceback": [
                        "\u001b[0;31m---------------------------------------------------------------------------\u001b[0m",
                        "\u001b[0;31mCalledProcessError\u001b[0m                        Traceback (most recent call last)",
                        "Cell \u001b[0;32mIn[2], line 1\u001b[0m\n\u001b[0;32m----> 1\u001b[0m get_ipython()\u001b[39m.\u001b[39;49mrun_cell_magic(\u001b[39m'\u001b[39;49m\u001b[39msh\u001b[39;49m\u001b[39m'\u001b[39;49m, \u001b[39m'\u001b[39;49m\u001b[39m'\u001b[39;49m, \u001b[39m'\u001b[39;49m\u001b[39mstreamlit run st_app.py\u001b[39;49m\u001b[39m\\n\u001b[39;49;00m\u001b[39m'\u001b[39;49m)\n",
                        "File \u001b[0;32m~/opt/anaconda3/envs/ploomber/lib/python3.10/site-packages/IPython/core/interactiveshell.py:2478\u001b[0m, in \u001b[0;36mInteractiveShell.run_cell_magic\u001b[0;34m(self, magic_name, line, cell)\u001b[0m\n\u001b[1;32m   2476\u001b[0m \u001b[39mwith\u001b[39;00m \u001b[39mself\u001b[39m\u001b[39m.\u001b[39mbuiltin_trap:\n\u001b[1;32m   2477\u001b[0m     args \u001b[39m=\u001b[39m (magic_arg_s, cell)\n\u001b[0;32m-> 2478\u001b[0m     result \u001b[39m=\u001b[39m fn(\u001b[39m*\u001b[39;49margs, \u001b[39m*\u001b[39;49m\u001b[39m*\u001b[39;49mkwargs)\n\u001b[1;32m   2480\u001b[0m \u001b[39m# The code below prevents the output from being displayed\u001b[39;00m\n\u001b[1;32m   2481\u001b[0m \u001b[39m# when using magics with decodator @output_can_be_silenced\u001b[39;00m\n\u001b[1;32m   2482\u001b[0m \u001b[39m# when the last Python token in the expression is a ';'.\u001b[39;00m\n\u001b[1;32m   2483\u001b[0m \u001b[39mif\u001b[39;00m \u001b[39mgetattr\u001b[39m(fn, magic\u001b[39m.\u001b[39mMAGIC_OUTPUT_CAN_BE_SILENCED, \u001b[39mFalse\u001b[39;00m):\n",
                        "File \u001b[0;32m~/opt/anaconda3/envs/ploomber/lib/python3.10/site-packages/IPython/core/magics/script.py:154\u001b[0m, in \u001b[0;36mScriptMagics._make_script_magic.<locals>.named_script_magic\u001b[0;34m(line, cell)\u001b[0m\n\u001b[1;32m    152\u001b[0m \u001b[39melse\u001b[39;00m:\n\u001b[1;32m    153\u001b[0m     line \u001b[39m=\u001b[39m script\n\u001b[0;32m--> 154\u001b[0m \u001b[39mreturn\u001b[39;00m \u001b[39mself\u001b[39;49m\u001b[39m.\u001b[39;49mshebang(line, cell)\n",
                        "File \u001b[0;32m~/opt/anaconda3/envs/ploomber/lib/python3.10/site-packages/IPython/core/magics/script.py:314\u001b[0m, in \u001b[0;36mScriptMagics.shebang\u001b[0;34m(self, line, cell)\u001b[0m\n\u001b[1;32m    309\u001b[0m \u001b[39mif\u001b[39;00m args\u001b[39m.\u001b[39mraise_error \u001b[39mand\u001b[39;00m p\u001b[39m.\u001b[39mreturncode \u001b[39m!=\u001b[39m \u001b[39m0\u001b[39m:\n\u001b[1;32m    310\u001b[0m     \u001b[39m# If we get here and p.returncode is still None, we must have\u001b[39;00m\n\u001b[1;32m    311\u001b[0m     \u001b[39m# killed it but not yet seen its return code. We don't wait for it,\u001b[39;00m\n\u001b[1;32m    312\u001b[0m     \u001b[39m# in case it's stuck in uninterruptible sleep. -9 = SIGKILL\u001b[39;00m\n\u001b[1;32m    313\u001b[0m     rc \u001b[39m=\u001b[39m p\u001b[39m.\u001b[39mreturncode \u001b[39mor\u001b[39;00m \u001b[39m-\u001b[39m\u001b[39m9\u001b[39m\n\u001b[0;32m--> 314\u001b[0m     \u001b[39mraise\u001b[39;00m CalledProcessError(rc, cell)\n",
                        "\u001b[0;31mCalledProcessError\u001b[0m: Command 'b'streamlit run st_app.py\\n'' returned non-zero exit status 126."
                    ]
                }
            ],
            "source": [
                "%%sh\n",
                "#streamlit run st_app.py"
            ]
        },
        {
            "cell_type": "markdown",
            "id": "a1b34f5b",
            "metadata": {
                "papermill": {
                    "duration": 0.001669,
                    "end_time": "2022-04-05T09:21:49.127697",
                    "exception": false,
                    "start_time": "2022-04-05T09:21:49.126028",
                    "status": "completed"
                },
                "tags": []
            },
            "source": [
                "Once it's done, it'll load the reports into the localhost and you can view your dashboard."
            ]
        }
    ],
    "metadata": {
        "kernelspec": {
            "display_name": "Python 3 (ipykernel)",
            "language": "python",
            "name": "python3"
        },
        "language_info": {
            "codemirror_mode": {
                "name": "ipython",
                "version": 3
            },
            "file_extension": ".py",
            "mimetype": "text/x-python",
            "name": "python",
            "nbconvert_exporter": "python",
            "pygments_lexer": "ipython3",
            "version": "3.10.12"
        },
        "papermill": {
            "default_parameters": {},
            "duration": 11.686807,
            "end_time": "2022-04-05T09:21:49.361794",
            "environment_variables": {},
            "exception": null,
            "input_path": "cookbook/streamlit-sample-app/_build/readme_preprocessed.ipynb",
            "output_path": "cookbook/streamlit-sample-app/README.ipynb",
            "parameters": {},
            "start_time": "2022-04-05T09:21:37.674987",
            "version": "2.3.4"
        }
    },
    "nbformat": 4,
    "nbformat_minor": 5
}
