{
 "cells": [
  {
   "cell_type": "markdown",
   "id": "a94257a7",
   "metadata": {},
   "source": [
    "<!-- start header -->\n",
    "To run this locally, [install Ploomber](https://docs.ploomber.io/en/latest/get-started/quick-start.html) and execute: `ploomber examples -n guides/monitoring`\n",
    "\n",
    "[![binder-logo](https://raw.githubusercontent.com/ploomber/projects/master/_static/open-in-jupyterlab.svg)](https://binder.ploomber.io/v2/gh/ploomber/binder-env/main?urlpath=git-pull%3Frepo%3Dhttps%253A%252F%252Fgithub.com%252Fploomber%252Fprojects%26urlpath%3Dlab%252Ftree%252Fprojects%252Fguides/monitoring%252FREADME.ipynb%26branch%3Dmaster)\n",
    "\n",
    "Questions? [Ask us on Slack.](https://ploomber.io/community/)\n",
    "\n",
    "For a notebook version (with outputs) of this file, [click here](https://github.com/ploomber/projects/blob/master/guides/monitoring/README.ipynb)\n",
    "<!-- end header -->\n"
   ]
  },
  {
   "cell_type": "markdown",
   "id": "b1ae6ef2",
   "metadata": {},
   "source": [
    "## Get a sample pipeline\n",
    "\n",
    "<!-- start description -->\n",
    "To show the capabilities we'll run our pipeline monitoring through a pre-built Ploomber template: ml-basic.\n",
    "<!-- end description -->"
   ]
  },
  {
   "cell_type": "code",
   "execution_count": null,
   "id": "9d81e8ae",
   "metadata": {},
   "outputs": [],
   "source": [
    "ploomber plot"
   ]
  },
  {
   "cell_type": "code",
   "execution_count": null,
   "id": "bb4101eb",
   "metadata": {},
   "outputs": [],
   "source": [
    "%%python\n",
    "# If using jupyter, you can show the plot with this code:\n",
    "from IPython.display import Image\n",
    "Image(filename='pipeline.png')\n",
    "# otherwise open the pipeline.png file directly\n",
    "\n",
    "# NOTE: ploomber plot will generate a pipeline.html (not .png) file if\n",
    "# pygraphviz is missing. In such case, open the file to view the pipeline plot"
   ]
  },
  {
   "cell_type": "markdown",
   "id": "b920761d",
   "metadata": {},
   "source": [
    "Let's take a look at the `pipeline.yaml`:"
   ]
  },
  {
   "cell_type": "markdown",
   "id": "19ff0da8",
   "metadata": {
    "lines_to_next_cell": 2,
    "region_name": "md"
   },
   "source": [
    "```yaml\n",
    "# Content of pipeline.yaml\n",
    "tasks:\n",
    "  - source: tasks.get\n",
    "    product: output/get.parquet\n",
    "\n",
    "  - source: tasks.features\n",
    "    product: output/features.parquet\n",
    "\n",
    "  - source: tasks.join\n",
    "    product: output/join.parquet\n",
    "\n",
    "  - source: fit.py\n",
    "    name: fit\n",
    "    product:\n",
    "        nb: output/nb.html\n",
    "        model: output/model.pickle\n",
    "\n",
    "```"
   ]
  },
  {
   "cell_type": "markdown",
   "id": "88cd27cb",
   "metadata": {},
   "source": [
    "## Setup your API key\n",
    "\n",
    "Go to the cloud and setup your key, add your email address:\n",
    "\n",
    "https://www.cloud.ploomber.io/register/"
   ]
  },
  {
   "cell_type": "code",
   "execution_count": null,
   "id": "c0c96a88",
   "metadata": {},
   "outputs": [],
   "source": [
    "ploomber cloud set-key $YOUR_API_KEY"
   ]
  },
  {
   "cell_type": "code",
   "execution_count": null,
   "id": "30a26bdf",
   "metadata": {},
   "outputs": [],
   "source": [
    "ploomber cloud get-key"
   ]
  },
  {
   "cell_type": "markdown",
   "id": "1d478184",
   "metadata": {},
   "source": [
    "## Run your pipeline\n",
    "We can get all of our pipeline execution history by running the command below, we can check out if we have anything that was errored out"
   ]
  },
  {
   "cell_type": "code",
   "execution_count": null,
   "id": "40051975",
   "metadata": {
    "lines_to_next_cell": 0
   },
   "outputs": [],
   "source": [
    "ploomber cloud get-pipelines"
   ]
  },
  {
   "cell_type": "markdown",
   "id": "58e809b6",
   "metadata": {},
   "source": [
    "now let's run the sample ml-basic pipeline and see how it's tracked"
   ]
  },
  {
   "cell_type": "code",
   "execution_count": null,
   "id": "a90a6b73",
   "metadata": {},
   "outputs": [],
   "source": [
    "%%python\n",
    "%%sh --no-raise-error\n",
    "ploomber build"
   ]
  },
  {
   "cell_type": "markdown",
   "id": "6a1094a9",
   "metadata": {},
   "source": [
    "Seeing how a successful pipeline looks like. You can also view the alerting mechanism - check out your email report!"
   ]
  },
  {
   "cell_type": "code",
   "execution_count": null,
   "id": "caf93e8f",
   "metadata": {
    "lines_to_next_cell": 0
   },
   "outputs": [],
   "source": [
    "ploomber cloud get-pipelines latest"
   ]
  },
  {
   "cell_type": "markdown",
   "id": "c88d2434",
   "metadata": {},
   "source": [
    "![working-monitoring](https://ploomber.io/images/doc/monitoring-pipeline.png)"
   ]
  },
  {
   "cell_type": "code",
   "execution_count": null,
   "id": "91cbd979",
   "metadata": {},
   "outputs": [],
   "source": [
    "%%python\n",
    "from pathlib import Path\n",
    "\n",
    "path = Path('fit.py')\n",
    "clean = path.read_text()\n",
    "\n",
    "# add a print statement at the end of 3-clean.py\n",
    "path.write_text(clean + \"\"\"\n",
    "raise ValueError(\"This is a sample error in the model fit\")\n",
    "\"\"\")"
   ]
  },
  {
   "cell_type": "code",
   "execution_count": null,
   "id": "66a7a65d",
   "metadata": {},
   "outputs": [],
   "source": [
    "%%python\n",
    "%%sh --no-raise-error\n",
    "ploomber build"
   ]
  },
  {
   "cell_type": "markdown",
   "id": "bea4c39f",
   "metadata": {},
   "source": [
    "### Check your email\n",
    "You should have a similar email stating a pipeline errored out and the error trace.\n",
    "\n",
    "![errored-pip-monitoring](https://ploomber.io/images/doc/monitoring-pipeline.png)\n",
    "\n",
    "You can also get all of the active pipelines, we'll see only ones that didn't finished yet."
   ]
  },
  {
   "cell_type": "code",
   "execution_count": null,
   "id": "4a2226bc",
   "metadata": {},
   "outputs": [],
   "source": [
    "ploomber cloud get-pipelines active"
   ]
  },
  {
   "cell_type": "markdown",
   "id": "297a8a86",
   "metadata": {},
   "source": [
    "We can also delete errored pipelines if we'd like to for instance we can run the command below to delete the ml pipeline.\n"
   ]
  },
  {
   "cell_type": "code",
   "execution_count": null,
   "id": "c8c3a6ab",
   "metadata": {},
   "outputs": [],
   "source": [
    "%%python\n",
    "%%sh --no-raise-error\n",
    "ploomber cloud delete-pipeline 9448f7ee-cc90-4e8a-8539-98e2ed0b4061"
   ]
  },
  {
   "cell_type": "markdown",
   "id": "81857f3c",
   "metadata": {},
   "source": [
    "# Conclusion\n",
    "This short guide allows you to track your pipelines, it's especially relevant when running parallel/long executions and you want to be notified once your workflow has finished.\n",
    "\n",
    "For more information you can check out the official guide: https://docs.ploomber.io/en/latest/cloud/index.html"
   ]
  }
 ],
 "metadata": {
  "jupytext": {
   "cell_metadata_filter": "region_name,-all",
   "formats": "md,ipynb",
   "notebook_metadata_filter": "-all"
  },
  "kernelspec": {
   "display_name": "Bash",
   "language": "bash",
   "name": "bash"
  },
  "language_info": {
   "name": ""
  }
 },
 "nbformat": 4,
 "nbformat_minor": 5
}
