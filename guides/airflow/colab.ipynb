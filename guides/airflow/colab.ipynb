{
 "cells": [
  {
   "cell_type": "markdown",
   "metadata": {
    "id": "P_bC-nkLZp4U"
   },
   "source": [
    "\n",
    "\n",
    "This tutorial will guide you through finding a notebook on the website, converting it to a ploomber pipeline and expose the pipeline to Airflow.\n",
    "\n",
    "## Setting up environment\n",
    "The following commands will install prerequisites including:\n",
    "* [Ploomber](https://github.com/ploomber/ploomber): Ploomber is a framework to build collaborative and modular pipelines; it integrates with Jupyter but you can use it with any other editor.\n",
    "* [Soorgeon](https://github.com/ploomber/soorgeon): Soorgeon converts monolithic Jupyter notebooks into maintainable Ploomber pipelines.\n",
    "* [Soopervisor](https://github.com/ploomber/soopervisor): Soopervisor runs Ploomber pipelines for batch processing (large-scale training or batch serving) or online inference.\n",
    "* [Airflow](https://airflow.apache.org/): Airflow is a platform to programmatically author, schedule and monitor workflows."
   ]
  },
  {
   "cell_type": "code",
   "execution_count": 1,
   "metadata": {
    "colab": {
     "base_uri": "https://localhost:8080/"
    },
    "id": "9nUHDv_vRiu1",
    "outputId": "8e141add-21df-4dad-ff00-1554bd8cb3fd"
   },
   "outputs": [
    {
     "name": "stdout",
     "output_type": "stream",
     "text": [
      "DB: sqlite:////root/airflow/airflow.db\n",
      "[\u001b[34m2022-08-05 22:13:04,949\u001b[0m] {\u001b[34mdb.py:\u001b[0m1462} INFO\u001b[0m - Creating tables\u001b[0m\n",
      "[\u001b[34m2022-08-05 22:13:08,625\u001b[0m] {\u001b[34mmanager.py:\u001b[0m244} INFO\u001b[0m - Inserted Role: Admin\u001b[0m\n",
      "[\u001b[34m2022-08-05 22:13:08,636\u001b[0m] {\u001b[34mmanager.py:\u001b[0m244} INFO\u001b[0m - Inserted Role: Public\u001b[0m\n",
      "[\u001b[34m2022-08-05 22:13:08,638\u001b[0m] {\u001b[34mmanager.py:\u001b[0m817} WARNING\u001b[0m - No user yet created, use flask fab command to do it.\u001b[0m\n",
      "[\u001b[34m2022-08-05 22:13:09,789\u001b[0m] {\u001b[34mmanager.py:\u001b[0m508} INFO\u001b[0m - Created Permission View: can delete on Connections\u001b[0m\n",
      "[\u001b[34m2022-08-05 22:13:09,808\u001b[0m] {\u001b[34mmanager.py:\u001b[0m508} INFO\u001b[0m - Created Permission View: can read on Connections\u001b[0m\n",
      "[\u001b[34m2022-08-05 22:13:09,826\u001b[0m] {\u001b[34mmanager.py:\u001b[0m508} INFO\u001b[0m - Created Permission View: can edit on Connections\u001b[0m\n",
      "[\u001b[34m2022-08-05 22:13:09,851\u001b[0m] {\u001b[34mmanager.py:\u001b[0m508} INFO\u001b[0m - Created Permission View: can create on Connections\u001b[0m\n",
      "[\u001b[34m2022-08-05 22:13:09,907\u001b[0m] {\u001b[34mmanager.py:\u001b[0m508} INFO\u001b[0m - Created Permission View: can read on DAGs\u001b[0m\n",
      "[\u001b[34m2022-08-05 22:13:09,929\u001b[0m] {\u001b[34mmanager.py:\u001b[0m508} INFO\u001b[0m - Created Permission View: can edit on DAGs\u001b[0m\n",
      "[\u001b[34m2022-08-05 22:13:09,948\u001b[0m] {\u001b[34mmanager.py:\u001b[0m508} INFO\u001b[0m - Created Permission View: can delete on DAGs\u001b[0m\n",
      "[\u001b[34m2022-08-05 22:13:09,996\u001b[0m] {\u001b[34mmanager.py:\u001b[0m508} INFO\u001b[0m - Created Permission View: can read on DAG Runs\u001b[0m\n",
      "[\u001b[34m2022-08-05 22:13:10,022\u001b[0m] {\u001b[34mmanager.py:\u001b[0m508} INFO\u001b[0m - Created Permission View: can read on Task Instances\u001b[0m\n",
      "[\u001b[34m2022-08-05 22:13:10,089\u001b[0m] {\u001b[34mmanager.py:\u001b[0m508} INFO\u001b[0m - Created Permission View: can edit on Task Instances\u001b[0m\n",
      "[\u001b[34m2022-08-05 22:13:10,127\u001b[0m] {\u001b[34mmanager.py:\u001b[0m508} INFO\u001b[0m - Created Permission View: can delete on DAG Runs\u001b[0m\n",
      "[\u001b[34m2022-08-05 22:13:10,164\u001b[0m] {\u001b[34mmanager.py:\u001b[0m508} INFO\u001b[0m - Created Permission View: can create on DAG Runs\u001b[0m\n",
      "[\u001b[34m2022-08-05 22:13:10,183\u001b[0m] {\u001b[34mmanager.py:\u001b[0m508} INFO\u001b[0m - Created Permission View: can edit on DAG Runs\u001b[0m\n",
      "[\u001b[34m2022-08-05 22:13:10,220\u001b[0m] {\u001b[34mmanager.py:\u001b[0m508} INFO\u001b[0m - Created Permission View: can read on Audit Logs\u001b[0m\n",
      "[\u001b[34m2022-08-05 22:13:10,257\u001b[0m] {\u001b[34mmanager.py:\u001b[0m508} INFO\u001b[0m - Created Permission View: can read on ImportError\u001b[0m\n",
      "[\u001b[34m2022-08-05 22:13:10,292\u001b[0m] {\u001b[34mmanager.py:\u001b[0m508} INFO\u001b[0m - Created Permission View: can delete on Pools\u001b[0m\n",
      "[\u001b[34m2022-08-05 22:13:10,307\u001b[0m] {\u001b[34mmanager.py:\u001b[0m508} INFO\u001b[0m - Created Permission View: can read on Pools\u001b[0m\n",
      "[\u001b[34m2022-08-05 22:13:10,326\u001b[0m] {\u001b[34mmanager.py:\u001b[0m508} INFO\u001b[0m - Created Permission View: can edit on Pools\u001b[0m\n",
      "[\u001b[34m2022-08-05 22:13:10,341\u001b[0m] {\u001b[34mmanager.py:\u001b[0m508} INFO\u001b[0m - Created Permission View: can create on Pools\u001b[0m\n",
      "[\u001b[34m2022-08-05 22:13:10,370\u001b[0m] {\u001b[34mmanager.py:\u001b[0m508} INFO\u001b[0m - Created Permission View: can read on Providers\u001b[0m\n",
      "[\u001b[34m2022-08-05 22:13:10,398\u001b[0m] {\u001b[34mmanager.py:\u001b[0m508} INFO\u001b[0m - Created Permission View: can delete on Variables\u001b[0m\n",
      "[\u001b[34m2022-08-05 22:13:10,414\u001b[0m] {\u001b[34mmanager.py:\u001b[0m508} INFO\u001b[0m - Created Permission View: can read on Variables\u001b[0m\n",
      "[\u001b[34m2022-08-05 22:13:10,432\u001b[0m] {\u001b[34mmanager.py:\u001b[0m508} INFO\u001b[0m - Created Permission View: can edit on Variables\u001b[0m\n",
      "[\u001b[34m2022-08-05 22:13:10,447\u001b[0m] {\u001b[34mmanager.py:\u001b[0m508} INFO\u001b[0m - Created Permission View: can create on Variables\u001b[0m\n",
      "[\u001b[34m2022-08-05 22:13:10,486\u001b[0m] {\u001b[34mmanager.py:\u001b[0m508} INFO\u001b[0m - Created Permission View: can read on XComs\u001b[0m\n",
      "[\u001b[34m2022-08-05 22:13:10,562\u001b[0m] {\u001b[34mmanager.py:\u001b[0m508} INFO\u001b[0m - Created Permission View: can read on DAG Code\u001b[0m\n",
      "[\u001b[34m2022-08-05 22:13:10,592\u001b[0m] {\u001b[34mmanager.py:\u001b[0m508} INFO\u001b[0m - Created Permission View: can read on Configurations\u001b[0m\n",
      "[\u001b[34m2022-08-05 22:13:10,627\u001b[0m] {\u001b[34mmanager.py:\u001b[0m508} INFO\u001b[0m - Created Permission View: can read on Plugins\u001b[0m\n",
      "[\u001b[34m2022-08-05 22:13:10,657\u001b[0m] {\u001b[34mmanager.py:\u001b[0m508} INFO\u001b[0m - Created Permission View: can read on Roles\u001b[0m\n",
      "[\u001b[34m2022-08-05 22:13:10,687\u001b[0m] {\u001b[34mmanager.py:\u001b[0m508} INFO\u001b[0m - Created Permission View: can read on Permissions\u001b[0m\n",
      "[\u001b[34m2022-08-05 22:13:10,703\u001b[0m] {\u001b[34mmanager.py:\u001b[0m508} INFO\u001b[0m - Created Permission View: can delete on Roles\u001b[0m\n",
      "[\u001b[34m2022-08-05 22:13:10,719\u001b[0m] {\u001b[34mmanager.py:\u001b[0m508} INFO\u001b[0m - Created Permission View: can edit on Roles\u001b[0m\n",
      "[\u001b[34m2022-08-05 22:13:10,736\u001b[0m] {\u001b[34mmanager.py:\u001b[0m508} INFO\u001b[0m - Created Permission View: can create on Roles\u001b[0m\n",
      "[\u001b[34m2022-08-05 22:13:10,777\u001b[0m] {\u001b[34mmanager.py:\u001b[0m508} INFO\u001b[0m - Created Permission View: can read on Users\u001b[0m\n",
      "[\u001b[34m2022-08-05 22:13:10,797\u001b[0m] {\u001b[34mmanager.py:\u001b[0m508} INFO\u001b[0m - Created Permission View: can create on Users\u001b[0m\n",
      "[\u001b[34m2022-08-05 22:13:10,812\u001b[0m] {\u001b[34mmanager.py:\u001b[0m508} INFO\u001b[0m - Created Permission View: can edit on Users\u001b[0m\n",
      "[\u001b[34m2022-08-05 22:13:10,828\u001b[0m] {\u001b[34mmanager.py:\u001b[0m508} INFO\u001b[0m - Created Permission View: can delete on Users\u001b[0m\n",
      "[\u001b[34m2022-08-05 22:13:10,911\u001b[0m] {\u001b[34mmanager.py:\u001b[0m244} INFO\u001b[0m - Inserted Role: Viewer\u001b[0m\n",
      "[\u001b[34m2022-08-05 22:13:10,931\u001b[0m] {\u001b[34mmanager.py:\u001b[0m568} INFO\u001b[0m - Added Permission can read on Audit Logs to role Viewer\u001b[0m\n",
      "[\u001b[34m2022-08-05 22:13:10,943\u001b[0m] {\u001b[34mmanager.py:\u001b[0m568} INFO\u001b[0m - Added Permission can read on DAGs to role Viewer\u001b[0m\n",
      "[\u001b[34m2022-08-05 22:13:10,967\u001b[0m] {\u001b[34mmanager.py:\u001b[0m508} INFO\u001b[0m - Created Permission View: can read on DAG Dependencies\u001b[0m\n",
      "[\u001b[34m2022-08-05 22:13:10,978\u001b[0m] {\u001b[34mmanager.py:\u001b[0m568} INFO\u001b[0m - Added Permission can read on DAG Dependencies to role Viewer\u001b[0m\n",
      "[\u001b[34m2022-08-05 22:13:10,991\u001b[0m] {\u001b[34mmanager.py:\u001b[0m568} INFO\u001b[0m - Added Permission can read on DAG Code to role Viewer\u001b[0m\n",
      "[\u001b[34m2022-08-05 22:13:11,003\u001b[0m] {\u001b[34mmanager.py:\u001b[0m568} INFO\u001b[0m - Added Permission can read on DAG Runs to role Viewer\u001b[0m\n",
      "[\u001b[34m2022-08-05 22:13:11,014\u001b[0m] {\u001b[34mmanager.py:\u001b[0m568} INFO\u001b[0m - Added Permission can read on ImportError to role Viewer\u001b[0m\n",
      "[\u001b[34m2022-08-05 22:13:11,040\u001b[0m] {\u001b[34mmanager.py:\u001b[0m508} INFO\u001b[0m - Created Permission View: can read on Jobs\u001b[0m\n",
      "[\u001b[34m2022-08-05 22:13:11,051\u001b[0m] {\u001b[34mmanager.py:\u001b[0m568} INFO\u001b[0m - Added Permission can read on Jobs to role Viewer\u001b[0m\n",
      "[\u001b[34m2022-08-05 22:13:11,080\u001b[0m] {\u001b[34mmanager.py:\u001b[0m508} INFO\u001b[0m - Created Permission View: can read on My Password\u001b[0m\n",
      "[\u001b[34m2022-08-05 22:13:11,091\u001b[0m] {\u001b[34mmanager.py:\u001b[0m568} INFO\u001b[0m - Added Permission can read on My Password to role Viewer\u001b[0m\n",
      "[\u001b[34m2022-08-05 22:13:11,106\u001b[0m] {\u001b[34mmanager.py:\u001b[0m508} INFO\u001b[0m - Created Permission View: can edit on My Password\u001b[0m\n",
      "[\u001b[34m2022-08-05 22:13:11,117\u001b[0m] {\u001b[34mmanager.py:\u001b[0m568} INFO\u001b[0m - Added Permission can edit on My Password to role Viewer\u001b[0m\n",
      "[\u001b[34m2022-08-05 22:13:11,141\u001b[0m] {\u001b[34mmanager.py:\u001b[0m508} INFO\u001b[0m - Created Permission View: can read on My Profile\u001b[0m\n",
      "[\u001b[34m2022-08-05 22:13:11,153\u001b[0m] {\u001b[34mmanager.py:\u001b[0m568} INFO\u001b[0m - Added Permission can read on My Profile to role Viewer\u001b[0m\n",
      "[\u001b[34m2022-08-05 22:13:11,170\u001b[0m] {\u001b[34mmanager.py:\u001b[0m508} INFO\u001b[0m - Created Permission View: can edit on My Profile\u001b[0m\n",
      "[\u001b[34m2022-08-05 22:13:11,182\u001b[0m] {\u001b[34mmanager.py:\u001b[0m568} INFO\u001b[0m - Added Permission can edit on My Profile to role Viewer\u001b[0m\n",
      "[\u001b[34m2022-08-05 22:13:11,194\u001b[0m] {\u001b[34mmanager.py:\u001b[0m568} INFO\u001b[0m - Added Permission can read on Plugins to role Viewer\u001b[0m\n",
      "[\u001b[34m2022-08-05 22:13:11,217\u001b[0m] {\u001b[34mmanager.py:\u001b[0m508} INFO\u001b[0m - Created Permission View: can read on SLA Misses\u001b[0m\n",
      "[\u001b[34m2022-08-05 22:13:11,228\u001b[0m] {\u001b[34mmanager.py:\u001b[0m568} INFO\u001b[0m - Added Permission can read on SLA Misses to role Viewer\u001b[0m\n",
      "[\u001b[34m2022-08-05 22:13:11,238\u001b[0m] {\u001b[34mmanager.py:\u001b[0m568} INFO\u001b[0m - Added Permission can read on Task Instances to role Viewer\u001b[0m\n",
      "[\u001b[34m2022-08-05 22:13:11,262\u001b[0m] {\u001b[34mmanager.py:\u001b[0m508} INFO\u001b[0m - Created Permission View: can read on Task Logs\u001b[0m\n",
      "[\u001b[34m2022-08-05 22:13:11,274\u001b[0m] {\u001b[34mmanager.py:\u001b[0m568} INFO\u001b[0m - Added Permission can read on Task Logs to role Viewer\u001b[0m\n",
      "[\u001b[34m2022-08-05 22:13:11,284\u001b[0m] {\u001b[34mmanager.py:\u001b[0m568} INFO\u001b[0m - Added Permission can read on XComs to role Viewer\u001b[0m\n",
      "[\u001b[34m2022-08-05 22:13:11,307\u001b[0m] {\u001b[34mmanager.py:\u001b[0m508} INFO\u001b[0m - Created Permission View: can read on Website\u001b[0m\n",
      "[\u001b[34m2022-08-05 22:13:11,318\u001b[0m] {\u001b[34mmanager.py:\u001b[0m568} INFO\u001b[0m - Added Permission can read on Website to role Viewer\u001b[0m\n",
      "[\u001b[34m2022-08-05 22:13:11,352\u001b[0m] {\u001b[34mmanager.py:\u001b[0m508} INFO\u001b[0m - Created Permission View: menu access on Browse\u001b[0m\n",
      "[\u001b[34m2022-08-05 22:13:11,363\u001b[0m] {\u001b[34mmanager.py:\u001b[0m568} INFO\u001b[0m - Added Permission menu access on Browse to role Viewer\u001b[0m\n",
      "[\u001b[34m2022-08-05 22:13:11,378\u001b[0m] {\u001b[34mmanager.py:\u001b[0m508} INFO\u001b[0m - Created Permission View: menu access on DAG Dependencies\u001b[0m\n",
      "[\u001b[34m2022-08-05 22:13:11,389\u001b[0m] {\u001b[34mmanager.py:\u001b[0m568} INFO\u001b[0m - Added Permission menu access on DAG Dependencies to role Viewer\u001b[0m\n",
      "[\u001b[34m2022-08-05 22:13:11,403\u001b[0m] {\u001b[34mmanager.py:\u001b[0m508} INFO\u001b[0m - Created Permission View: menu access on DAG Runs\u001b[0m\n",
      "[\u001b[34m2022-08-05 22:13:11,414\u001b[0m] {\u001b[34mmanager.py:\u001b[0m568} INFO\u001b[0m - Added Permission menu access on DAG Runs to role Viewer\u001b[0m\n",
      "[\u001b[34m2022-08-05 22:13:11,436\u001b[0m] {\u001b[34mmanager.py:\u001b[0m508} INFO\u001b[0m - Created Permission View: menu access on Documentation\u001b[0m\n",
      "[\u001b[34m2022-08-05 22:13:11,446\u001b[0m] {\u001b[34mmanager.py:\u001b[0m568} INFO\u001b[0m - Added Permission menu access on Documentation to role Viewer\u001b[0m\n",
      "[\u001b[34m2022-08-05 22:13:11,469\u001b[0m] {\u001b[34mmanager.py:\u001b[0m508} INFO\u001b[0m - Created Permission View: menu access on Docs\u001b[0m\n",
      "[\u001b[34m2022-08-05 22:13:11,480\u001b[0m] {\u001b[34mmanager.py:\u001b[0m568} INFO\u001b[0m - Added Permission menu access on Docs to role Viewer\u001b[0m\n",
      "[\u001b[34m2022-08-05 22:13:11,495\u001b[0m] {\u001b[34mmanager.py:\u001b[0m508} INFO\u001b[0m - Created Permission View: menu access on Jobs\u001b[0m\n",
      "[\u001b[34m2022-08-05 22:13:11,506\u001b[0m] {\u001b[34mmanager.py:\u001b[0m568} INFO\u001b[0m - Added Permission menu access on Jobs to role Viewer\u001b[0m\n",
      "[\u001b[34m2022-08-05 22:13:11,520\u001b[0m] {\u001b[34mmanager.py:\u001b[0m508} INFO\u001b[0m - Created Permission View: menu access on Audit Logs\u001b[0m\n",
      "[\u001b[34m2022-08-05 22:13:11,531\u001b[0m] {\u001b[34mmanager.py:\u001b[0m568} INFO\u001b[0m - Added Permission menu access on Audit Logs to role Viewer\u001b[0m\n",
      "[\u001b[34m2022-08-05 22:13:11,546\u001b[0m] {\u001b[34mmanager.py:\u001b[0m508} INFO\u001b[0m - Created Permission View: menu access on Plugins\u001b[0m\n",
      "[\u001b[34m2022-08-05 22:13:11,556\u001b[0m] {\u001b[34mmanager.py:\u001b[0m568} INFO\u001b[0m - Added Permission menu access on Plugins to role Viewer\u001b[0m\n",
      "[\u001b[34m2022-08-05 22:13:11,571\u001b[0m] {\u001b[34mmanager.py:\u001b[0m508} INFO\u001b[0m - Created Permission View: menu access on SLA Misses\u001b[0m\n",
      "[\u001b[34m2022-08-05 22:13:11,582\u001b[0m] {\u001b[34mmanager.py:\u001b[0m568} INFO\u001b[0m - Added Permission menu access on SLA Misses to role Viewer\u001b[0m\n",
      "[\u001b[34m2022-08-05 22:13:11,596\u001b[0m] {\u001b[34mmanager.py:\u001b[0m508} INFO\u001b[0m - Created Permission View: menu access on Task Instances\u001b[0m\n",
      "[\u001b[34m2022-08-05 22:13:11,607\u001b[0m] {\u001b[34mmanager.py:\u001b[0m568} INFO\u001b[0m - Added Permission menu access on Task Instances to role Viewer\u001b[0m\n",
      "[\u001b[34m2022-08-05 22:13:11,619\u001b[0m] {\u001b[34mmanager.py:\u001b[0m244} INFO\u001b[0m - Inserted Role: User\u001b[0m\n",
      "[\u001b[34m2022-08-05 22:13:11,630\u001b[0m] {\u001b[34mmanager.py:\u001b[0m568} INFO\u001b[0m - Added Permission can read on Audit Logs to role User\u001b[0m\n",
      "[\u001b[34m2022-08-05 22:13:11,641\u001b[0m] {\u001b[34mmanager.py:\u001b[0m568} INFO\u001b[0m - Added Permission can read on DAGs to role User\u001b[0m\n",
      "[\u001b[34m2022-08-05 22:13:11,656\u001b[0m] {\u001b[34mmanager.py:\u001b[0m568} INFO\u001b[0m - Added Permission can read on DAG Dependencies to role User\u001b[0m\n",
      "[\u001b[34m2022-08-05 22:13:11,667\u001b[0m] {\u001b[34mmanager.py:\u001b[0m568} INFO\u001b[0m - Added Permission can read on DAG Code to role User\u001b[0m\n",
      "[\u001b[34m2022-08-05 22:13:11,678\u001b[0m] {\u001b[34mmanager.py:\u001b[0m568} INFO\u001b[0m - Added Permission can read on DAG Runs to role User\u001b[0m\n",
      "[\u001b[34m2022-08-05 22:13:11,689\u001b[0m] {\u001b[34mmanager.py:\u001b[0m568} INFO\u001b[0m - Added Permission can read on ImportError to role User\u001b[0m\n",
      "[\u001b[34m2022-08-05 22:13:11,703\u001b[0m] {\u001b[34mmanager.py:\u001b[0m568} INFO\u001b[0m - Added Permission can read on Jobs to role User\u001b[0m\n",
      "[\u001b[34m2022-08-05 22:13:11,718\u001b[0m] {\u001b[34mmanager.py:\u001b[0m568} INFO\u001b[0m - Added Permission can read on My Password to role User\u001b[0m\n",
      "[\u001b[34m2022-08-05 22:13:11,733\u001b[0m] {\u001b[34mmanager.py:\u001b[0m568} INFO\u001b[0m - Added Permission can edit on My Password to role User\u001b[0m\n",
      "[\u001b[34m2022-08-05 22:13:11,748\u001b[0m] {\u001b[34mmanager.py:\u001b[0m568} INFO\u001b[0m - Added Permission can read on My Profile to role User\u001b[0m\n",
      "[\u001b[34m2022-08-05 22:13:11,763\u001b[0m] {\u001b[34mmanager.py:\u001b[0m568} INFO\u001b[0m - Added Permission can edit on My Profile to role User\u001b[0m\n",
      "[\u001b[34m2022-08-05 22:13:11,774\u001b[0m] {\u001b[34mmanager.py:\u001b[0m568} INFO\u001b[0m - Added Permission can read on Plugins to role User\u001b[0m\n",
      "[\u001b[34m2022-08-05 22:13:11,789\u001b[0m] {\u001b[34mmanager.py:\u001b[0m568} INFO\u001b[0m - Added Permission can read on SLA Misses to role User\u001b[0m\n",
      "[\u001b[34m2022-08-05 22:13:11,800\u001b[0m] {\u001b[34mmanager.py:\u001b[0m568} INFO\u001b[0m - Added Permission can read on Task Instances to role User\u001b[0m\n",
      "[\u001b[34m2022-08-05 22:13:11,815\u001b[0m] {\u001b[34mmanager.py:\u001b[0m568} INFO\u001b[0m - Added Permission can read on Task Logs to role User\u001b[0m\n",
      "[\u001b[34m2022-08-05 22:13:11,827\u001b[0m] {\u001b[34mmanager.py:\u001b[0m568} INFO\u001b[0m - Added Permission can read on XComs to role User\u001b[0m\n",
      "[\u001b[34m2022-08-05 22:13:11,841\u001b[0m] {\u001b[34mmanager.py:\u001b[0m568} INFO\u001b[0m - Added Permission can read on Website to role User\u001b[0m\n",
      "[\u001b[34m2022-08-05 22:13:11,855\u001b[0m] {\u001b[34mmanager.py:\u001b[0m568} INFO\u001b[0m - Added Permission menu access on Browse to role User\u001b[0m\n",
      "[\u001b[34m2022-08-05 22:13:11,869\u001b[0m] {\u001b[34mmanager.py:\u001b[0m568} INFO\u001b[0m - Added Permission menu access on DAG Dependencies to role User\u001b[0m\n",
      "[\u001b[34m2022-08-05 22:13:11,882\u001b[0m] {\u001b[34mmanager.py:\u001b[0m568} INFO\u001b[0m - Added Permission menu access on DAG Runs to role User\u001b[0m\n",
      "[\u001b[34m2022-08-05 22:13:11,896\u001b[0m] {\u001b[34mmanager.py:\u001b[0m568} INFO\u001b[0m - Added Permission menu access on Documentation to role User\u001b[0m\n",
      "[\u001b[34m2022-08-05 22:13:11,910\u001b[0m] {\u001b[34mmanager.py:\u001b[0m568} INFO\u001b[0m - Added Permission menu access on Docs to role User\u001b[0m\n",
      "[\u001b[34m2022-08-05 22:13:11,924\u001b[0m] {\u001b[34mmanager.py:\u001b[0m568} INFO\u001b[0m - Added Permission menu access on Jobs to role User\u001b[0m\n",
      "[\u001b[34m2022-08-05 22:13:11,939\u001b[0m] {\u001b[34mmanager.py:\u001b[0m568} INFO\u001b[0m - Added Permission menu access on Audit Logs to role User\u001b[0m\n",
      "[\u001b[34m2022-08-05 22:13:11,953\u001b[0m] {\u001b[34mmanager.py:\u001b[0m568} INFO\u001b[0m - Added Permission menu access on Plugins to role User\u001b[0m\n",
      "[\u001b[34m2022-08-05 22:13:11,968\u001b[0m] {\u001b[34mmanager.py:\u001b[0m568} INFO\u001b[0m - Added Permission menu access on SLA Misses to role User\u001b[0m\n",
      "[\u001b[34m2022-08-05 22:13:11,982\u001b[0m] {\u001b[34mmanager.py:\u001b[0m568} INFO\u001b[0m - Added Permission menu access on Task Instances to role User\u001b[0m\n",
      "[\u001b[34m2022-08-05 22:13:11,993\u001b[0m] {\u001b[34mmanager.py:\u001b[0m568} INFO\u001b[0m - Added Permission can edit on DAGs to role User\u001b[0m\n",
      "[\u001b[34m2022-08-05 22:13:12,005\u001b[0m] {\u001b[34mmanager.py:\u001b[0m568} INFO\u001b[0m - Added Permission can delete on DAGs to role User\u001b[0m\n",
      "[\u001b[34m2022-08-05 22:13:12,020\u001b[0m] {\u001b[34mmanager.py:\u001b[0m508} INFO\u001b[0m - Created Permission View: can create on Task Instances\u001b[0m\n",
      "[\u001b[34m2022-08-05 22:13:12,033\u001b[0m] {\u001b[34mmanager.py:\u001b[0m568} INFO\u001b[0m - Added Permission can create on Task Instances to role User\u001b[0m\n",
      "[\u001b[34m2022-08-05 22:13:12,044\u001b[0m] {\u001b[34mmanager.py:\u001b[0m568} INFO\u001b[0m - Added Permission can edit on Task Instances to role User\u001b[0m\n",
      "[\u001b[34m2022-08-05 22:13:12,059\u001b[0m] {\u001b[34mmanager.py:\u001b[0m508} INFO\u001b[0m - Created Permission View: can delete on Task Instances\u001b[0m\n",
      "[\u001b[34m2022-08-05 22:13:12,070\u001b[0m] {\u001b[34mmanager.py:\u001b[0m568} INFO\u001b[0m - Added Permission can delete on Task Instances to role User\u001b[0m\n",
      "[\u001b[34m2022-08-05 22:13:12,081\u001b[0m] {\u001b[34mmanager.py:\u001b[0m568} INFO\u001b[0m - Added Permission can create on DAG Runs to role User\u001b[0m\n",
      "[\u001b[34m2022-08-05 22:13:12,094\u001b[0m] {\u001b[34mmanager.py:\u001b[0m568} INFO\u001b[0m - Added Permission can edit on DAG Runs to role User\u001b[0m\n",
      "[\u001b[34m2022-08-05 22:13:12,105\u001b[0m] {\u001b[34mmanager.py:\u001b[0m568} INFO\u001b[0m - Added Permission can delete on DAG Runs to role User\u001b[0m\n",
      "[\u001b[34m2022-08-05 22:13:12,116\u001b[0m] {\u001b[34mmanager.py:\u001b[0m244} INFO\u001b[0m - Inserted Role: Op\u001b[0m\n",
      "[\u001b[34m2022-08-05 22:13:12,129\u001b[0m] {\u001b[34mmanager.py:\u001b[0m568} INFO\u001b[0m - Added Permission can read on Audit Logs to role Op\u001b[0m\n",
      "[\u001b[34m2022-08-05 22:13:12,141\u001b[0m] {\u001b[34mmanager.py:\u001b[0m568} INFO\u001b[0m - Added Permission can read on DAGs to role Op\u001b[0m\n",
      "[\u001b[34m2022-08-05 22:13:12,156\u001b[0m] {\u001b[34mmanager.py:\u001b[0m568} INFO\u001b[0m - Added Permission can read on DAG Dependencies to role Op\u001b[0m\n",
      "[\u001b[34m2022-08-05 22:13:12,167\u001b[0m] {\u001b[34mmanager.py:\u001b[0m568} INFO\u001b[0m - Added Permission can read on DAG Code to role Op\u001b[0m\n",
      "[\u001b[34m2022-08-05 22:13:12,179\u001b[0m] {\u001b[34mmanager.py:\u001b[0m568} INFO\u001b[0m - Added Permission can read on DAG Runs to role Op\u001b[0m\n",
      "[\u001b[34m2022-08-05 22:13:12,190\u001b[0m] {\u001b[34mmanager.py:\u001b[0m568} INFO\u001b[0m - Added Permission can read on ImportError to role Op\u001b[0m\n",
      "[\u001b[34m2022-08-05 22:13:12,204\u001b[0m] {\u001b[34mmanager.py:\u001b[0m568} INFO\u001b[0m - Added Permission can read on Jobs to role Op\u001b[0m\n",
      "[\u001b[34m2022-08-05 22:13:12,218\u001b[0m] {\u001b[34mmanager.py:\u001b[0m568} INFO\u001b[0m - Added Permission can read on My Password to role Op\u001b[0m\n",
      "[\u001b[34m2022-08-05 22:13:12,233\u001b[0m] {\u001b[34mmanager.py:\u001b[0m568} INFO\u001b[0m - Added Permission can edit on My Password to role Op\u001b[0m\n",
      "[\u001b[34m2022-08-05 22:13:12,248\u001b[0m] {\u001b[34mmanager.py:\u001b[0m568} INFO\u001b[0m - Added Permission can read on My Profile to role Op\u001b[0m\n",
      "[\u001b[34m2022-08-05 22:13:12,262\u001b[0m] {\u001b[34mmanager.py:\u001b[0m568} INFO\u001b[0m - Added Permission can edit on My Profile to role Op\u001b[0m\n",
      "[\u001b[34m2022-08-05 22:13:12,273\u001b[0m] {\u001b[34mmanager.py:\u001b[0m568} INFO\u001b[0m - Added Permission can read on Plugins to role Op\u001b[0m\n",
      "[\u001b[34m2022-08-05 22:13:12,288\u001b[0m] {\u001b[34mmanager.py:\u001b[0m568} INFO\u001b[0m - Added Permission can read on SLA Misses to role Op\u001b[0m\n",
      "[\u001b[34m2022-08-05 22:13:12,299\u001b[0m] {\u001b[34mmanager.py:\u001b[0m568} INFO\u001b[0m - Added Permission can read on Task Instances to role Op\u001b[0m\n",
      "[\u001b[34m2022-08-05 22:13:12,313\u001b[0m] {\u001b[34mmanager.py:\u001b[0m568} INFO\u001b[0m - Added Permission can read on Task Logs to role Op\u001b[0m\n",
      "[\u001b[34m2022-08-05 22:13:12,324\u001b[0m] {\u001b[34mmanager.py:\u001b[0m568} INFO\u001b[0m - Added Permission can read on XComs to role Op\u001b[0m\n",
      "[\u001b[34m2022-08-05 22:13:12,339\u001b[0m] {\u001b[34mmanager.py:\u001b[0m568} INFO\u001b[0m - Added Permission can read on Website to role Op\u001b[0m\n",
      "[\u001b[34m2022-08-05 22:13:12,353\u001b[0m] {\u001b[34mmanager.py:\u001b[0m568} INFO\u001b[0m - Added Permission menu access on Browse to role Op\u001b[0m\n",
      "[\u001b[34m2022-08-05 22:13:12,367\u001b[0m] {\u001b[34mmanager.py:\u001b[0m568} INFO\u001b[0m - Added Permission menu access on DAG Dependencies to role Op\u001b[0m\n",
      "[\u001b[34m2022-08-05 22:13:12,382\u001b[0m] {\u001b[34mmanager.py:\u001b[0m568} INFO\u001b[0m - Added Permission menu access on DAG Runs to role Op\u001b[0m\n",
      "[\u001b[34m2022-08-05 22:13:12,396\u001b[0m] {\u001b[34mmanager.py:\u001b[0m568} INFO\u001b[0m - Added Permission menu access on Documentation to role Op\u001b[0m\n",
      "[\u001b[34m2022-08-05 22:13:12,411\u001b[0m] {\u001b[34mmanager.py:\u001b[0m568} INFO\u001b[0m - Added Permission menu access on Docs to role Op\u001b[0m\n",
      "[\u001b[34m2022-08-05 22:13:12,425\u001b[0m] {\u001b[34mmanager.py:\u001b[0m568} INFO\u001b[0m - Added Permission menu access on Jobs to role Op\u001b[0m\n",
      "[\u001b[34m2022-08-05 22:13:12,440\u001b[0m] {\u001b[34mmanager.py:\u001b[0m568} INFO\u001b[0m - Added Permission menu access on Audit Logs to role Op\u001b[0m\n",
      "[\u001b[34m2022-08-05 22:13:12,455\u001b[0m] {\u001b[34mmanager.py:\u001b[0m568} INFO\u001b[0m - Added Permission menu access on Plugins to role Op\u001b[0m\n",
      "[\u001b[34m2022-08-05 22:13:12,470\u001b[0m] {\u001b[34mmanager.py:\u001b[0m568} INFO\u001b[0m - Added Permission menu access on SLA Misses to role Op\u001b[0m\n",
      "[\u001b[34m2022-08-05 22:13:12,486\u001b[0m] {\u001b[34mmanager.py:\u001b[0m568} INFO\u001b[0m - Added Permission menu access on Task Instances to role Op\u001b[0m\n",
      "[\u001b[34m2022-08-05 22:13:12,498\u001b[0m] {\u001b[34mmanager.py:\u001b[0m568} INFO\u001b[0m - Added Permission can edit on DAGs to role Op\u001b[0m\n",
      "[\u001b[34m2022-08-05 22:13:12,509\u001b[0m] {\u001b[34mmanager.py:\u001b[0m568} INFO\u001b[0m - Added Permission can delete on DAGs to role Op\u001b[0m\n",
      "[\u001b[34m2022-08-05 22:13:12,523\u001b[0m] {\u001b[34mmanager.py:\u001b[0m568} INFO\u001b[0m - Added Permission can create on Task Instances to role Op\u001b[0m\n",
      "[\u001b[34m2022-08-05 22:13:12,535\u001b[0m] {\u001b[34mmanager.py:\u001b[0m568} INFO\u001b[0m - Added Permission can edit on Task Instances to role Op\u001b[0m\n",
      "[\u001b[34m2022-08-05 22:13:12,549\u001b[0m] {\u001b[34mmanager.py:\u001b[0m568} INFO\u001b[0m - Added Permission can delete on Task Instances to role Op\u001b[0m\n",
      "[\u001b[34m2022-08-05 22:13:12,560\u001b[0m] {\u001b[34mmanager.py:\u001b[0m568} INFO\u001b[0m - Added Permission can create on DAG Runs to role Op\u001b[0m\n",
      "[\u001b[34m2022-08-05 22:13:12,572\u001b[0m] {\u001b[34mmanager.py:\u001b[0m568} INFO\u001b[0m - Added Permission can edit on DAG Runs to role Op\u001b[0m\n",
      "[\u001b[34m2022-08-05 22:13:12,583\u001b[0m] {\u001b[34mmanager.py:\u001b[0m568} INFO\u001b[0m - Added Permission can delete on DAG Runs to role Op\u001b[0m\n",
      "[\u001b[34m2022-08-05 22:13:12,595\u001b[0m] {\u001b[34mmanager.py:\u001b[0m568} INFO\u001b[0m - Added Permission can read on Configurations to role Op\u001b[0m\n",
      "[\u001b[34m2022-08-05 22:13:12,619\u001b[0m] {\u001b[34mmanager.py:\u001b[0m508} INFO\u001b[0m - Created Permission View: menu access on Admin\u001b[0m\n",
      "[\u001b[34m2022-08-05 22:13:12,631\u001b[0m] {\u001b[34mmanager.py:\u001b[0m568} INFO\u001b[0m - Added Permission menu access on Admin to role Op\u001b[0m\n",
      "[\u001b[34m2022-08-05 22:13:12,647\u001b[0m] {\u001b[34mmanager.py:\u001b[0m508} INFO\u001b[0m - Created Permission View: menu access on Configurations\u001b[0m\n",
      "[\u001b[34m2022-08-05 22:13:12,658\u001b[0m] {\u001b[34mmanager.py:\u001b[0m568} INFO\u001b[0m - Added Permission menu access on Configurations to role Op\u001b[0m\n",
      "[\u001b[34m2022-08-05 22:13:12,674\u001b[0m] {\u001b[34mmanager.py:\u001b[0m508} INFO\u001b[0m - Created Permission View: menu access on Connections\u001b[0m\n",
      "[\u001b[34m2022-08-05 22:13:12,685\u001b[0m] {\u001b[34mmanager.py:\u001b[0m568} INFO\u001b[0m - Added Permission menu access on Connections to role Op\u001b[0m\n",
      "[\u001b[34m2022-08-05 22:13:12,700\u001b[0m] {\u001b[34mmanager.py:\u001b[0m508} INFO\u001b[0m - Created Permission View: menu access on Pools\u001b[0m\n",
      "[\u001b[34m2022-08-05 22:13:12,711\u001b[0m] {\u001b[34mmanager.py:\u001b[0m568} INFO\u001b[0m - Added Permission menu access on Pools to role Op\u001b[0m\n",
      "[\u001b[34m2022-08-05 22:13:12,727\u001b[0m] {\u001b[34mmanager.py:\u001b[0m508} INFO\u001b[0m - Created Permission View: menu access on Variables\u001b[0m\n",
      "[\u001b[34m2022-08-05 22:13:12,738\u001b[0m] {\u001b[34mmanager.py:\u001b[0m568} INFO\u001b[0m - Added Permission menu access on Variables to role Op\u001b[0m\n",
      "[\u001b[34m2022-08-05 22:13:12,754\u001b[0m] {\u001b[34mmanager.py:\u001b[0m508} INFO\u001b[0m - Created Permission View: menu access on XComs\u001b[0m\n",
      "[\u001b[34m2022-08-05 22:13:12,765\u001b[0m] {\u001b[34mmanager.py:\u001b[0m568} INFO\u001b[0m - Added Permission menu access on XComs to role Op\u001b[0m\n",
      "[\u001b[34m2022-08-05 22:13:12,775\u001b[0m] {\u001b[34mmanager.py:\u001b[0m568} INFO\u001b[0m - Added Permission can create on Connections to role Op\u001b[0m\n",
      "[\u001b[34m2022-08-05 22:13:12,788\u001b[0m] {\u001b[34mmanager.py:\u001b[0m568} INFO\u001b[0m - Added Permission can read on Connections to role Op\u001b[0m\n",
      "[\u001b[34m2022-08-05 22:13:12,801\u001b[0m] {\u001b[34mmanager.py:\u001b[0m568} INFO\u001b[0m - Added Permission can edit on Connections to role Op\u001b[0m\n",
      "[\u001b[34m2022-08-05 22:13:12,812\u001b[0m] {\u001b[34mmanager.py:\u001b[0m568} INFO\u001b[0m - Added Permission can delete on Connections to role Op\u001b[0m\n",
      "[\u001b[34m2022-08-05 22:13:12,824\u001b[0m] {\u001b[34mmanager.py:\u001b[0m568} INFO\u001b[0m - Added Permission can create on Pools to role Op\u001b[0m\n",
      "[\u001b[34m2022-08-05 22:13:12,835\u001b[0m] {\u001b[34mmanager.py:\u001b[0m568} INFO\u001b[0m - Added Permission can read on Pools to role Op\u001b[0m\n",
      "[\u001b[34m2022-08-05 22:13:12,846\u001b[0m] {\u001b[34mmanager.py:\u001b[0m568} INFO\u001b[0m - Added Permission can edit on Pools to role Op\u001b[0m\n",
      "[\u001b[34m2022-08-05 22:13:12,856\u001b[0m] {\u001b[34mmanager.py:\u001b[0m568} INFO\u001b[0m - Added Permission can delete on Pools to role Op\u001b[0m\n",
      "[\u001b[34m2022-08-05 22:13:12,867\u001b[0m] {\u001b[34mmanager.py:\u001b[0m568} INFO\u001b[0m - Added Permission can read on Providers to role Op\u001b[0m\n",
      "[\u001b[34m2022-08-05 22:13:12,878\u001b[0m] {\u001b[34mmanager.py:\u001b[0m568} INFO\u001b[0m - Added Permission can create on Variables to role Op\u001b[0m\n",
      "[\u001b[34m2022-08-05 22:13:12,889\u001b[0m] {\u001b[34mmanager.py:\u001b[0m568} INFO\u001b[0m - Added Permission can read on Variables to role Op\u001b[0m\n",
      "[\u001b[34m2022-08-05 22:13:12,900\u001b[0m] {\u001b[34mmanager.py:\u001b[0m568} INFO\u001b[0m - Added Permission can edit on Variables to role Op\u001b[0m\n",
      "[\u001b[34m2022-08-05 22:13:12,912\u001b[0m] {\u001b[34mmanager.py:\u001b[0m568} INFO\u001b[0m - Added Permission can delete on Variables to role Op\u001b[0m\n",
      "[\u001b[34m2022-08-05 22:13:12,927\u001b[0m] {\u001b[34mmanager.py:\u001b[0m508} INFO\u001b[0m - Created Permission View: can delete on XComs\u001b[0m\n",
      "[\u001b[34m2022-08-05 22:13:12,939\u001b[0m] {\u001b[34mmanager.py:\u001b[0m568} INFO\u001b[0m - Added Permission can delete on XComs to role Op\u001b[0m\n",
      "[\u001b[34m2022-08-05 22:13:12,950\u001b[0m] {\u001b[34mmanager.py:\u001b[0m568} INFO\u001b[0m - Added Permission can read on Audit Logs to role Admin\u001b[0m\n",
      "[\u001b[34m2022-08-05 22:13:12,961\u001b[0m] {\u001b[34mmanager.py:\u001b[0m568} INFO\u001b[0m - Added Permission can read on DAGs to role Admin\u001b[0m\n",
      "[\u001b[34m2022-08-05 22:13:12,976\u001b[0m] {\u001b[34mmanager.py:\u001b[0m568} INFO\u001b[0m - Added Permission can read on DAG Dependencies to role Admin\u001b[0m\n",
      "[\u001b[34m2022-08-05 22:13:12,987\u001b[0m] {\u001b[34mmanager.py:\u001b[0m568} INFO\u001b[0m - Added Permission can read on DAG Code to role Admin\u001b[0m\n",
      "[\u001b[34m2022-08-05 22:13:12,999\u001b[0m] {\u001b[34mmanager.py:\u001b[0m568} INFO\u001b[0m - Added Permission can read on DAG Runs to role Admin\u001b[0m\n",
      "[\u001b[34m2022-08-05 22:13:13,009\u001b[0m] {\u001b[34mmanager.py:\u001b[0m568} INFO\u001b[0m - Added Permission can read on ImportError to role Admin\u001b[0m\n",
      "[\u001b[34m2022-08-05 22:13:13,024\u001b[0m] {\u001b[34mmanager.py:\u001b[0m568} INFO\u001b[0m - Added Permission can read on Jobs to role Admin\u001b[0m\n",
      "[\u001b[34m2022-08-05 22:13:13,038\u001b[0m] {\u001b[34mmanager.py:\u001b[0m568} INFO\u001b[0m - Added Permission can read on My Password to role Admin\u001b[0m\n",
      "[\u001b[34m2022-08-05 22:13:13,053\u001b[0m] {\u001b[34mmanager.py:\u001b[0m568} INFO\u001b[0m - Added Permission can edit on My Password to role Admin\u001b[0m\n",
      "[\u001b[34m2022-08-05 22:13:13,068\u001b[0m] {\u001b[34mmanager.py:\u001b[0m568} INFO\u001b[0m - Added Permission can read on My Profile to role Admin\u001b[0m\n",
      "[\u001b[34m2022-08-05 22:13:13,082\u001b[0m] {\u001b[34mmanager.py:\u001b[0m568} INFO\u001b[0m - Added Permission can edit on My Profile to role Admin\u001b[0m\n",
      "[\u001b[34m2022-08-05 22:13:13,097\u001b[0m] {\u001b[34mmanager.py:\u001b[0m568} INFO\u001b[0m - Added Permission can read on Plugins to role Admin\u001b[0m\n",
      "[\u001b[34m2022-08-05 22:13:13,114\u001b[0m] {\u001b[34mmanager.py:\u001b[0m568} INFO\u001b[0m - Added Permission can read on SLA Misses to role Admin\u001b[0m\n",
      "[\u001b[34m2022-08-05 22:13:13,125\u001b[0m] {\u001b[34mmanager.py:\u001b[0m568} INFO\u001b[0m - Added Permission can read on Task Instances to role Admin\u001b[0m\n",
      "[\u001b[34m2022-08-05 22:13:13,139\u001b[0m] {\u001b[34mmanager.py:\u001b[0m568} INFO\u001b[0m - Added Permission can read on Task Logs to role Admin\u001b[0m\n",
      "[\u001b[34m2022-08-05 22:13:13,150\u001b[0m] {\u001b[34mmanager.py:\u001b[0m568} INFO\u001b[0m - Added Permission can read on XComs to role Admin\u001b[0m\n",
      "[\u001b[34m2022-08-05 22:13:13,166\u001b[0m] {\u001b[34mmanager.py:\u001b[0m568} INFO\u001b[0m - Added Permission can read on Website to role Admin\u001b[0m\n",
      "[\u001b[34m2022-08-05 22:13:13,180\u001b[0m] {\u001b[34mmanager.py:\u001b[0m568} INFO\u001b[0m - Added Permission menu access on Browse to role Admin\u001b[0m\n",
      "[\u001b[34m2022-08-05 22:13:13,195\u001b[0m] {\u001b[34mmanager.py:\u001b[0m568} INFO\u001b[0m - Added Permission menu access on DAG Dependencies to role Admin\u001b[0m\n",
      "[\u001b[34m2022-08-05 22:13:13,210\u001b[0m] {\u001b[34mmanager.py:\u001b[0m568} INFO\u001b[0m - Added Permission menu access on DAG Runs to role Admin\u001b[0m\n",
      "[\u001b[34m2022-08-05 22:13:13,225\u001b[0m] {\u001b[34mmanager.py:\u001b[0m568} INFO\u001b[0m - Added Permission menu access on Documentation to role Admin\u001b[0m\n",
      "[\u001b[34m2022-08-05 22:13:13,240\u001b[0m] {\u001b[34mmanager.py:\u001b[0m568} INFO\u001b[0m - Added Permission menu access on Docs to role Admin\u001b[0m\n",
      "[\u001b[34m2022-08-05 22:13:13,255\u001b[0m] {\u001b[34mmanager.py:\u001b[0m568} INFO\u001b[0m - Added Permission menu access on Jobs to role Admin\u001b[0m\n",
      "[\u001b[34m2022-08-05 22:13:13,270\u001b[0m] {\u001b[34mmanager.py:\u001b[0m568} INFO\u001b[0m - Added Permission menu access on Audit Logs to role Admin\u001b[0m\n",
      "[\u001b[34m2022-08-05 22:13:13,285\u001b[0m] {\u001b[34mmanager.py:\u001b[0m568} INFO\u001b[0m - Added Permission menu access on Plugins to role Admin\u001b[0m\n",
      "[\u001b[34m2022-08-05 22:13:13,301\u001b[0m] {\u001b[34mmanager.py:\u001b[0m568} INFO\u001b[0m - Added Permission menu access on SLA Misses to role Admin\u001b[0m\n",
      "[\u001b[34m2022-08-05 22:13:13,316\u001b[0m] {\u001b[34mmanager.py:\u001b[0m568} INFO\u001b[0m - Added Permission menu access on Task Instances to role Admin\u001b[0m\n",
      "[\u001b[34m2022-08-05 22:13:13,328\u001b[0m] {\u001b[34mmanager.py:\u001b[0m568} INFO\u001b[0m - Added Permission can edit on DAGs to role Admin\u001b[0m\n",
      "[\u001b[34m2022-08-05 22:13:13,339\u001b[0m] {\u001b[34mmanager.py:\u001b[0m568} INFO\u001b[0m - Added Permission can delete on DAGs to role Admin\u001b[0m\n",
      "[\u001b[34m2022-08-05 22:13:13,354\u001b[0m] {\u001b[34mmanager.py:\u001b[0m568} INFO\u001b[0m - Added Permission can create on Task Instances to role Admin\u001b[0m\n",
      "[\u001b[34m2022-08-05 22:13:13,365\u001b[0m] {\u001b[34mmanager.py:\u001b[0m568} INFO\u001b[0m - Added Permission can edit on Task Instances to role Admin\u001b[0m\n",
      "[\u001b[34m2022-08-05 22:13:13,379\u001b[0m] {\u001b[34mmanager.py:\u001b[0m568} INFO\u001b[0m - Added Permission can delete on Task Instances to role Admin\u001b[0m\n",
      "[\u001b[34m2022-08-05 22:13:13,390\u001b[0m] {\u001b[34mmanager.py:\u001b[0m568} INFO\u001b[0m - Added Permission can create on DAG Runs to role Admin\u001b[0m\n",
      "[\u001b[34m2022-08-05 22:13:13,401\u001b[0m] {\u001b[34mmanager.py:\u001b[0m568} INFO\u001b[0m - Added Permission can edit on DAG Runs to role Admin\u001b[0m\n",
      "[\u001b[34m2022-08-05 22:13:13,413\u001b[0m] {\u001b[34mmanager.py:\u001b[0m568} INFO\u001b[0m - Added Permission can delete on DAG Runs to role Admin\u001b[0m\n",
      "[\u001b[34m2022-08-05 22:13:13,425\u001b[0m] {\u001b[34mmanager.py:\u001b[0m568} INFO\u001b[0m - Added Permission can read on Configurations to role Admin\u001b[0m\n",
      "[\u001b[34m2022-08-05 22:13:13,440\u001b[0m] {\u001b[34mmanager.py:\u001b[0m568} INFO\u001b[0m - Added Permission menu access on Admin to role Admin\u001b[0m\n",
      "[\u001b[34m2022-08-05 22:13:13,455\u001b[0m] {\u001b[34mmanager.py:\u001b[0m568} INFO\u001b[0m - Added Permission menu access on Configurations to role Admin\u001b[0m\n",
      "[\u001b[34m2022-08-05 22:13:13,470\u001b[0m] {\u001b[34mmanager.py:\u001b[0m568} INFO\u001b[0m - Added Permission menu access on Connections to role Admin\u001b[0m\n",
      "[\u001b[34m2022-08-05 22:13:13,485\u001b[0m] {\u001b[34mmanager.py:\u001b[0m568} INFO\u001b[0m - Added Permission menu access on Pools to role Admin\u001b[0m\n",
      "[\u001b[34m2022-08-05 22:13:13,500\u001b[0m] {\u001b[34mmanager.py:\u001b[0m568} INFO\u001b[0m - Added Permission menu access on Variables to role Admin\u001b[0m\n",
      "[\u001b[34m2022-08-05 22:13:13,516\u001b[0m] {\u001b[34mmanager.py:\u001b[0m568} INFO\u001b[0m - Added Permission menu access on XComs to role Admin\u001b[0m\n",
      "[\u001b[34m2022-08-05 22:13:13,527\u001b[0m] {\u001b[34mmanager.py:\u001b[0m568} INFO\u001b[0m - Added Permission can create on Connections to role Admin\u001b[0m\n",
      "[\u001b[34m2022-08-05 22:13:13,539\u001b[0m] {\u001b[34mmanager.py:\u001b[0m568} INFO\u001b[0m - Added Permission can read on Connections to role Admin\u001b[0m\n",
      "[\u001b[34m2022-08-05 22:13:13,551\u001b[0m] {\u001b[34mmanager.py:\u001b[0m568} INFO\u001b[0m - Added Permission can edit on Connections to role Admin\u001b[0m\n",
      "[\u001b[34m2022-08-05 22:13:13,563\u001b[0m] {\u001b[34mmanager.py:\u001b[0m568} INFO\u001b[0m - Added Permission can delete on Connections to role Admin\u001b[0m\n",
      "[\u001b[34m2022-08-05 22:13:13,575\u001b[0m] {\u001b[34mmanager.py:\u001b[0m568} INFO\u001b[0m - Added Permission can create on Pools to role Admin\u001b[0m\n",
      "[\u001b[34m2022-08-05 22:13:13,587\u001b[0m] {\u001b[34mmanager.py:\u001b[0m568} INFO\u001b[0m - Added Permission can read on Pools to role Admin\u001b[0m\n",
      "[\u001b[34m2022-08-05 22:13:13,599\u001b[0m] {\u001b[34mmanager.py:\u001b[0m568} INFO\u001b[0m - Added Permission can edit on Pools to role Admin\u001b[0m\n",
      "[\u001b[34m2022-08-05 22:13:13,611\u001b[0m] {\u001b[34mmanager.py:\u001b[0m568} INFO\u001b[0m - Added Permission can delete on Pools to role Admin\u001b[0m\n",
      "[\u001b[34m2022-08-05 22:13:13,624\u001b[0m] {\u001b[34mmanager.py:\u001b[0m568} INFO\u001b[0m - Added Permission can read on Providers to role Admin\u001b[0m\n",
      "[\u001b[34m2022-08-05 22:13:13,636\u001b[0m] {\u001b[34mmanager.py:\u001b[0m568} INFO\u001b[0m - Added Permission can create on Variables to role Admin\u001b[0m\n",
      "[\u001b[34m2022-08-05 22:13:13,647\u001b[0m] {\u001b[34mmanager.py:\u001b[0m568} INFO\u001b[0m - Added Permission can read on Variables to role Admin\u001b[0m\n",
      "[\u001b[34m2022-08-05 22:13:13,658\u001b[0m] {\u001b[34mmanager.py:\u001b[0m568} INFO\u001b[0m - Added Permission can edit on Variables to role Admin\u001b[0m\n",
      "[\u001b[34m2022-08-05 22:13:13,669\u001b[0m] {\u001b[34mmanager.py:\u001b[0m568} INFO\u001b[0m - Added Permission can delete on Variables to role Admin\u001b[0m\n",
      "[\u001b[34m2022-08-05 22:13:13,684\u001b[0m] {\u001b[34mmanager.py:\u001b[0m568} INFO\u001b[0m - Added Permission can delete on XComs to role Admin\u001b[0m\n",
      "[\u001b[34m2022-08-05 22:13:13,707\u001b[0m] {\u001b[34mmanager.py:\u001b[0m508} INFO\u001b[0m - Created Permission View: can read on Task Reschedules\u001b[0m\n",
      "[\u001b[34m2022-08-05 22:13:13,718\u001b[0m] {\u001b[34mmanager.py:\u001b[0m568} INFO\u001b[0m - Added Permission can read on Task Reschedules to role Admin\u001b[0m\n",
      "[\u001b[34m2022-08-05 22:13:13,733\u001b[0m] {\u001b[34mmanager.py:\u001b[0m508} INFO\u001b[0m - Created Permission View: menu access on Task Reschedules\u001b[0m\n",
      "[\u001b[34m2022-08-05 22:13:13,745\u001b[0m] {\u001b[34mmanager.py:\u001b[0m568} INFO\u001b[0m - Added Permission menu access on Task Reschedules to role Admin\u001b[0m\n",
      "[\u001b[34m2022-08-05 22:13:13,769\u001b[0m] {\u001b[34mmanager.py:\u001b[0m508} INFO\u001b[0m - Created Permission View: can read on Triggers\u001b[0m\n",
      "[\u001b[34m2022-08-05 22:13:13,780\u001b[0m] {\u001b[34mmanager.py:\u001b[0m568} INFO\u001b[0m - Added Permission can read on Triggers to role Admin\u001b[0m\n",
      "[\u001b[34m2022-08-05 22:13:13,794\u001b[0m] {\u001b[34mmanager.py:\u001b[0m508} INFO\u001b[0m - Created Permission View: menu access on Triggers\u001b[0m\n",
      "[\u001b[34m2022-08-05 22:13:13,805\u001b[0m] {\u001b[34mmanager.py:\u001b[0m568} INFO\u001b[0m - Added Permission menu access on Triggers to role Admin\u001b[0m\n",
      "[\u001b[34m2022-08-05 22:13:13,829\u001b[0m] {\u001b[34mmanager.py:\u001b[0m508} INFO\u001b[0m - Created Permission View: can read on Passwords\u001b[0m\n",
      "[\u001b[34m2022-08-05 22:13:13,840\u001b[0m] {\u001b[34mmanager.py:\u001b[0m568} INFO\u001b[0m - Added Permission can read on Passwords to role Admin\u001b[0m\n",
      "[\u001b[34m2022-08-05 22:13:13,856\u001b[0m] {\u001b[34mmanager.py:\u001b[0m508} INFO\u001b[0m - Created Permission View: can edit on Passwords\u001b[0m\n",
      "[\u001b[34m2022-08-05 22:13:13,867\u001b[0m] {\u001b[34mmanager.py:\u001b[0m568} INFO\u001b[0m - Added Permission can edit on Passwords to role Admin\u001b[0m\n",
      "[\u001b[34m2022-08-05 22:13:13,879\u001b[0m] {\u001b[34mmanager.py:\u001b[0m568} INFO\u001b[0m - Added Permission can read on Roles to role Admin\u001b[0m\n",
      "[\u001b[34m2022-08-05 22:13:13,891\u001b[0m] {\u001b[34mmanager.py:\u001b[0m568} INFO\u001b[0m - Added Permission can edit on Roles to role Admin\u001b[0m\n",
      "[\u001b[34m2022-08-05 22:13:14,103\u001b[0m] {\u001b[34mmanager.py:\u001b[0m817} WARNING\u001b[0m - No user yet created, use flask fab command to do it.\u001b[0m\n",
      "[\u001b[34m2022-08-05 22:13:15,390\u001b[0m] {\u001b[34mmanager.py:\u001b[0m817} WARNING\u001b[0m - No user yet created, use flask fab command to do it.\u001b[0m\n",
      "Initialization done\n",
      "[\u001b[34m2022-08-05 22:13:20,840\u001b[0m] {\u001b[34mmanager.py:\u001b[0m817} WARNING\u001b[0m - No user yet created, use flask fab command to do it.\u001b[0m\n",
      "[\u001b[34m2022-08-05 22:13:20,977\u001b[0m] {\u001b[34mmanager.py:\u001b[0m508} INFO\u001b[0m - Created Permission View: menu access on List Users\u001b[0m\n",
      "[\u001b[34m2022-08-05 22:13:20,993\u001b[0m] {\u001b[34mmanager.py:\u001b[0m568} INFO\u001b[0m - Added Permission menu access on List Users to role Admin\u001b[0m\n",
      "[\u001b[34m2022-08-05 22:13:21,022\u001b[0m] {\u001b[34mmanager.py:\u001b[0m508} INFO\u001b[0m - Created Permission View: menu access on Security\u001b[0m\n",
      "[\u001b[34m2022-08-05 22:13:21,037\u001b[0m] {\u001b[34mmanager.py:\u001b[0m568} INFO\u001b[0m - Added Permission menu access on Security to role Admin\u001b[0m\n",
      "[\u001b[34m2022-08-05 22:13:21,084\u001b[0m] {\u001b[34mmanager.py:\u001b[0m508} INFO\u001b[0m - Created Permission View: menu access on List Roles\u001b[0m\n",
      "[\u001b[34m2022-08-05 22:13:21,100\u001b[0m] {\u001b[34mmanager.py:\u001b[0m568} INFO\u001b[0m - Added Permission menu access on List Roles to role Admin\u001b[0m\n",
      "[\u001b[34m2022-08-05 22:13:21,140\u001b[0m] {\u001b[34mmanager.py:\u001b[0m508} INFO\u001b[0m - Created Permission View: can read on User Stats Chart\u001b[0m\n",
      "[\u001b[34m2022-08-05 22:13:21,156\u001b[0m] {\u001b[34mmanager.py:\u001b[0m568} INFO\u001b[0m - Added Permission can read on User Stats Chart to role Admin\u001b[0m\n",
      "[\u001b[34m2022-08-05 22:13:21,186\u001b[0m] {\u001b[34mmanager.py:\u001b[0m508} INFO\u001b[0m - Created Permission View: menu access on User's Statistics\u001b[0m\n",
      "[\u001b[34m2022-08-05 22:13:21,201\u001b[0m] {\u001b[34mmanager.py:\u001b[0m568} INFO\u001b[0m - Added Permission menu access on User's Statistics to role Admin\u001b[0m\n",
      "[\u001b[34m2022-08-05 22:13:21,260\u001b[0m] {\u001b[34mmanager.py:\u001b[0m508} INFO\u001b[0m - Created Permission View: menu access on Actions\u001b[0m\n",
      "[\u001b[34m2022-08-05 22:13:21,276\u001b[0m] {\u001b[34mmanager.py:\u001b[0m568} INFO\u001b[0m - Added Permission menu access on Actions to role Admin\u001b[0m\n",
      "[\u001b[34m2022-08-05 22:13:21,327\u001b[0m] {\u001b[34mmanager.py:\u001b[0m508} INFO\u001b[0m - Created Permission View: can read on View Menus\u001b[0m\n",
      "[\u001b[34m2022-08-05 22:13:21,342\u001b[0m] {\u001b[34mmanager.py:\u001b[0m568} INFO\u001b[0m - Added Permission can read on View Menus to role Admin\u001b[0m\n",
      "[\u001b[34m2022-08-05 22:13:21,372\u001b[0m] {\u001b[34mmanager.py:\u001b[0m508} INFO\u001b[0m - Created Permission View: menu access on Resources\u001b[0m\n",
      "[\u001b[34m2022-08-05 22:13:21,386\u001b[0m] {\u001b[34mmanager.py:\u001b[0m568} INFO\u001b[0m - Added Permission menu access on Resources to role Admin\u001b[0m\n",
      "[\u001b[34m2022-08-05 22:13:21,435\u001b[0m] {\u001b[34mmanager.py:\u001b[0m508} INFO\u001b[0m - Created Permission View: can read on Permission Views\u001b[0m\n",
      "[\u001b[34m2022-08-05 22:13:21,449\u001b[0m] {\u001b[34mmanager.py:\u001b[0m568} INFO\u001b[0m - Added Permission can read on Permission Views to role Admin\u001b[0m\n",
      "[\u001b[34m2022-08-05 22:13:21,479\u001b[0m] {\u001b[34mmanager.py:\u001b[0m508} INFO\u001b[0m - Created Permission View: menu access on Permission Pairs\u001b[0m\n",
      "[\u001b[34m2022-08-05 22:13:21,493\u001b[0m] {\u001b[34mmanager.py:\u001b[0m568} INFO\u001b[0m - Added Permission menu access on Permission Pairs to role Admin\u001b[0m\n",
      "[\u001b[34m2022-08-05 22:13:21,783\u001b[0m] {\u001b[34mmanager.py:\u001b[0m508} INFO\u001b[0m - Created Permission View: clear on Task Instances\u001b[0m\n",
      "[\u001b[34m2022-08-05 22:13:21,795\u001b[0m] {\u001b[34mmanager.py:\u001b[0m568} INFO\u001b[0m - Added Permission clear on Task Instances to role Admin\u001b[0m\n",
      "[\u001b[34m2022-08-05 22:13:21,817\u001b[0m] {\u001b[34mmanager.py:\u001b[0m508} INFO\u001b[0m - Created Permission View: set failed on Task Instances\u001b[0m\n",
      "[\u001b[34m2022-08-05 22:13:21,829\u001b[0m] {\u001b[34mmanager.py:\u001b[0m568} INFO\u001b[0m - Added Permission set failed on Task Instances to role Admin\u001b[0m\n",
      "[\u001b[34m2022-08-05 22:13:21,852\u001b[0m] {\u001b[34mmanager.py:\u001b[0m508} INFO\u001b[0m - Created Permission View: set retry on Task Instances\u001b[0m\n",
      "[\u001b[34m2022-08-05 22:13:21,864\u001b[0m] {\u001b[34mmanager.py:\u001b[0m568} INFO\u001b[0m - Added Permission set retry on Task Instances to role Admin\u001b[0m\n",
      "[\u001b[34m2022-08-05 22:13:21,888\u001b[0m] {\u001b[34mmanager.py:\u001b[0m508} INFO\u001b[0m - Created Permission View: set running on Task Instances\u001b[0m\n",
      "[\u001b[34m2022-08-05 22:13:21,899\u001b[0m] {\u001b[34mmanager.py:\u001b[0m568} INFO\u001b[0m - Added Permission set running on Task Instances to role Admin\u001b[0m\n",
      "[\u001b[34m2022-08-05 22:13:21,922\u001b[0m] {\u001b[34mmanager.py:\u001b[0m508} INFO\u001b[0m - Created Permission View: set skipped on Task Instances\u001b[0m\n",
      "[\u001b[34m2022-08-05 22:13:21,934\u001b[0m] {\u001b[34mmanager.py:\u001b[0m568} INFO\u001b[0m - Added Permission set skipped on Task Instances to role Admin\u001b[0m\n",
      "[\u001b[34m2022-08-05 22:13:21,958\u001b[0m] {\u001b[34mmanager.py:\u001b[0m508} INFO\u001b[0m - Created Permission View: set success on Task Instances\u001b[0m\n",
      "[\u001b[34m2022-08-05 22:13:21,970\u001b[0m] {\u001b[34mmanager.py:\u001b[0m568} INFO\u001b[0m - Added Permission set success on Task Instances to role Admin\u001b[0m\n",
      "[\u001b[34m2022-08-05 22:13:22,174\u001b[0m] {\u001b[34mmanager.py:\u001b[0m508} INFO\u001b[0m - Created Permission View: menu access on Providers\u001b[0m\n",
      "[\u001b[34m2022-08-05 22:13:22,186\u001b[0m] {\u001b[34mmanager.py:\u001b[0m568} INFO\u001b[0m - Added Permission menu access on Providers to role Admin\u001b[0m\n",
      "[\u001b[34m2022-08-05 22:13:22,264\u001b[0m] {\u001b[34mmanager.py:\u001b[0m508} INFO\u001b[0m - Created Permission View: can create on XComs\u001b[0m\n",
      "[\u001b[34m2022-08-05 22:13:22,276\u001b[0m] {\u001b[34mmanager.py:\u001b[0m568} INFO\u001b[0m - Added Permission can create on XComs to role Admin\u001b[0m\n",
      "[\u001b[34m2022-08-05 22:13:23,861\u001b[0m] {\u001b[34mmanager.py:\u001b[0m213} INFO\u001b[0m - Added user ploomber\u001b[0m\n",
      "User \"ploomber\" created with role \"Admin\"\n"
     ]
    },
    {
     "name": "stderr",
     "output_type": "stream",
     "text": [
      "ERROR: pip's dependency resolver does not currently take into account all the packages that are installed. This behaviour is the source of the following dependency conflicts.\n",
      "thinc 8.1.0 requires typing-extensions<4.2.0,>=3.7.4.1; python_version < \"3.8\", but you have typing-extensions 4.3.0 which is incompatible.\n",
      "sphinx 1.8.6 requires docutils<0.18,>=0.11, but you have docutils 0.19 which is incompatible.\n",
      "spacy 3.4.1 requires typing-extensions<4.2.0,>=3.7.4; python_version < \"3.8\", but you have typing-extensions 4.3.0 which is incompatible.\n",
      "pytest 3.6.4 requires pluggy<0.8,>=0.5, but you have pluggy 1.0.0 which is incompatible.\n",
      "nbclient 0.6.6 requires jupyter-client>=6.1.5, but you have jupyter-client 5.3.5 which is incompatible.\n",
      "nbclient 0.6.6 requires traitlets>=5.2.2, but you have traitlets 5.1.1 which is incompatible.\n",
      "ERROR: pip's dependency resolver does not currently take into account all the packages that are installed. This behaviour is the source of the following dependency conflicts.\n",
      "sphinx 1.8.6 requires docutils<0.18,>=0.11, but you have docutils 0.19 which is incompatible.\n",
      "spacy 3.4.1 requires typing-extensions<4.2.0,>=3.7.4; python_version < \"3.8\", but you have typing-extensions 4.3.0 which is incompatible.\n",
      "google-colab 1.0.0 requires tornado~=5.1.0, but you have tornado 6.2 which is incompatible.\n",
      "ERROR: pip's dependency resolver does not currently take into account all the packages that are installed. This behaviour is the source of the following dependency conflicts.\n",
      "sphinx 1.8.6 requires docutils<0.18,>=0.11, but you have docutils 0.19 which is incompatible.\n",
      "spacy 3.4.1 requires typing-extensions<4.2.0,>=3.7.4; python_version < \"3.8\", but you have typing-extensions 4.3.0 which is incompatible.\n",
      "jupyter-console 5.2.0 requires prompt-toolkit<2.0.0,>=1.0.0, but you have prompt-toolkit 3.0.30 which is incompatible.\n",
      "google-colab 1.0.0 requires ipython~=5.5.0, but you have ipython 7.34.0 which is incompatible.\n",
      "google-colab 1.0.0 requires notebook~=5.3.0, but you have notebook 6.4.12 which is incompatible.\n",
      "google-colab 1.0.0 requires tornado~=5.1.0, but you have tornado 6.2 which is incompatible.\n",
      "INFO  [alembic.runtime.migration] Context impl SQLiteImpl.\n",
      "INFO  [alembic.runtime.migration] Will assume non-transactional DDL.\n",
      "INFO  [alembic.runtime.migration] Running upgrade  -> e3a246e0dc1, current schema\n",
      "INFO  [alembic.runtime.migration] Running upgrade e3a246e0dc1 -> 1507a7289a2f, Add ``is_encrypted`` column in ``connection`` table\n",
      "INFO  [alembic.runtime.migration] Running upgrade 1507a7289a2f -> 13eb55f81627, Maintain history for compatibility with earlier migrations\n",
      "INFO  [alembic.runtime.migration] Running upgrade 13eb55f81627 -> 338e90f54d61, Add ``operator`` and ``queued_dttm`` to ``task_instance`` table\n",
      "INFO  [alembic.runtime.migration] Running upgrade 338e90f54d61 -> 52d714495f0, Add indices in ``job`` table\n",
      "INFO  [alembic.runtime.migration] Running upgrade 52d714495f0 -> 502898887f84, Adding ``extra`` column to ``Log`` table\n",
      "INFO  [alembic.runtime.migration] Running upgrade 502898887f84 -> 1b38cef5b76e, Add ``dag_run`` table\n",
      "INFO  [alembic.runtime.migration] Running upgrade 1b38cef5b76e -> 2e541a1dcfed, Change ``task_instance.task_duration`` type to ``FLOAT``\n",
      "INFO  [alembic.runtime.migration] Running upgrade 2e541a1dcfed -> 40e67319e3a9, Add ``conf`` column in ``dag_run`` table\n",
      "INFO  [alembic.runtime.migration] Running upgrade 40e67319e3a9 -> 561833c1c74b, Add ``password`` column to ``user`` table\n",
      "INFO  [alembic.runtime.migration] Running upgrade 561833c1c74b -> 4446e08588, Add ``start_date`` and ``end_date`` in ``dag_run`` table\n",
      "INFO  [alembic.runtime.migration] Running upgrade 4446e08588 -> bbc73705a13e, Add ``notification_sent`` column to ``sla_miss`` table\n",
      "INFO  [alembic.runtime.migration] Running upgrade bbc73705a13e -> bba5a7cfc896, Add a column to track the encryption state of the 'Extra' field in connection\n",
      "INFO  [alembic.runtime.migration] Running upgrade bba5a7cfc896 -> 1968acfc09e3, Add ``is_encrypted`` column to variable table\n",
      "INFO  [alembic.runtime.migration] Running upgrade 1968acfc09e3 -> 2e82aab8ef20, Rename user table\n",
      "INFO  [alembic.runtime.migration] Running upgrade 2e82aab8ef20 -> 211e584da130, Add TI state index\n",
      "INFO  [alembic.runtime.migration] Running upgrade 211e584da130 -> 64de9cddf6c9, Add ``task_fail`` table\n",
      "INFO  [alembic.runtime.migration] Running upgrade 64de9cddf6c9 -> f2ca10b85618, Add ``dag_stats`` table\n",
      "INFO  [alembic.runtime.migration] Running upgrade f2ca10b85618 -> 4addfa1236f1, Add fractional seconds to MySQL tables\n",
      "INFO  [alembic.runtime.migration] Running upgrade 4addfa1236f1 -> 8504051e801b, Add indices on ``xcom`` table\n",
      "INFO  [alembic.runtime.migration] Running upgrade 8504051e801b -> 5e7d17757c7a, Add ``pid`` field to ``TaskInstance``\n",
      "INFO  [alembic.runtime.migration] Running upgrade 5e7d17757c7a -> 127d2bf2dfa7, Add ``dag_id``/``state`` index on ``dag_run`` table\n",
      "INFO  [alembic.runtime.migration] Running upgrade 127d2bf2dfa7 -> cc1e65623dc7, Add ``max_tries`` column to ``task_instance``\n",
      "INFO  [alembic.runtime.migration] Running upgrade cc1e65623dc7 -> bdaa763e6c56, Make xcom value column a large binary\n",
      "INFO  [alembic.runtime.migration] Running upgrade bdaa763e6c56 -> 947454bf1dff, Create index on ``job_id`` column in ``task_instance`` table\n",
      "INFO  [alembic.runtime.migration] Running upgrade 947454bf1dff -> d2ae31099d61, Increase text size for MySQL (not relevant for other DBs' text types)\n",
      "INFO  [alembic.runtime.migration] Running upgrade d2ae31099d61 -> 0e2a74e0fc9f, Add time zone awareness\n",
      "INFO  [alembic.runtime.migration] Running upgrade d2ae31099d61 -> 33ae817a1ff4, Add Kubernetes resource check-pointing\n",
      "INFO  [alembic.runtime.migration] Running upgrade 33ae817a1ff4 -> 27c6a30d7c24, Add ``executor_config`` column to ``task_instance`` table\n",
      "INFO  [alembic.runtime.migration] Running upgrade 27c6a30d7c24 -> 86770d1215c0, Add kubernetes scheduler uniqueness\n",
      "INFO  [alembic.runtime.migration] Running upgrade 86770d1215c0, 0e2a74e0fc9f -> 05f30312d566, Merge migrations Heads\n",
      "INFO  [alembic.runtime.migration] Running upgrade 05f30312d566 -> f23433877c24, Fix MySQL not null constraint\n",
      "INFO  [alembic.runtime.migration] Running upgrade f23433877c24 -> 856955da8476, Fix Sqlite foreign key\n",
      "INFO  [alembic.runtime.migration] Running upgrade 856955da8476 -> 9635ae0956e7, Create index on ``task_fail`` table\n",
      "INFO  [alembic.runtime.migration] Running upgrade 9635ae0956e7 -> dd25f486b8ea, Add index on ``log`` table\n",
      "INFO  [alembic.runtime.migration] Running upgrade dd25f486b8ea -> bf00311e1990, Add index to ``task_instance`` table\n",
      "INFO  [alembic.runtime.migration] Running upgrade 9635ae0956e7 -> 0a2a5b66e19d, Add ``task_reschedule`` table\n",
      "INFO  [alembic.runtime.migration] Running upgrade 0a2a5b66e19d, bf00311e1990 -> 03bc53e68815, Merge migrations Heads\n",
      "INFO  [alembic.runtime.migration] Running upgrade 03bc53e68815 -> 41f5f12752f8, Add superuser field\n",
      "INFO  [alembic.runtime.migration] Running upgrade 41f5f12752f8 -> c8ffec048a3b, Add ``description`` and ``default_view`` column to ``dag`` table\n",
      "INFO  [alembic.runtime.migration] Running upgrade c8ffec048a3b -> dd4ecb8fbee3, Add schedule interval to dag\n",
      "INFO  [alembic.runtime.migration] Running upgrade dd4ecb8fbee3 -> 939bb1e647c8, task reschedule foreign key on cascade delete\n",
      "INFO  [alembic.runtime.migration] Running upgrade 939bb1e647c8 -> 6e96a59344a4, Make ``TaskInstance.pool`` not nullable\n",
      "INFO  [alembic.runtime.migration] Running upgrade 6e96a59344a4 -> d38e04c12aa2, Add ``serialized_dag`` table\n",
      "INFO  [alembic.runtime.migration] Running upgrade d38e04c12aa2 -> b3b105409875, Add ``root_dag_id`` to ``DAG``\n",
      "INFO  [alembic.runtime.migration] Running upgrade 6e96a59344a4 -> 74effc47d867, change datetime to datetime2(6) on MSSQL tables\n",
      "INFO  [alembic.runtime.migration] Running upgrade 939bb1e647c8 -> 004c1210f153, Increase queue name size limit\n",
      "INFO  [alembic.runtime.migration] Running upgrade c8ffec048a3b -> a56c9515abdc, Remove ``dag_stat`` table\n",
      "INFO  [alembic.runtime.migration] Running upgrade a56c9515abdc, 004c1210f153, 74effc47d867, b3b105409875 -> 08364691d074, Straighten out the migrations\n",
      "INFO  [alembic.runtime.migration] Running upgrade 08364691d074 -> fe461863935f, Increase length for connection password\n",
      "INFO  [alembic.runtime.migration] Running upgrade fe461863935f -> 7939bcff74ba, Add ``DagTags`` table\n",
      "INFO  [alembic.runtime.migration] Running upgrade 7939bcff74ba -> a4c2fd67d16b, Add ``pool_slots`` field to ``task_instance``\n",
      "INFO  [alembic.runtime.migration] Running upgrade a4c2fd67d16b -> 852ae6c715af, Add ``RenderedTaskInstanceFields`` table\n",
      "INFO  [alembic.runtime.migration] Running upgrade 852ae6c715af -> 952da73b5eff, Add ``dag_code`` table\n",
      "INFO  [alembic.runtime.migration] Running upgrade 952da73b5eff -> a66efa278eea, Add Precision to ``execution_date`` in ``RenderedTaskInstanceFields`` table\n",
      "INFO  [alembic.runtime.migration] Running upgrade a66efa278eea -> da3f683c3a5a, Add ``dag_hash`` Column to ``serialized_dag`` table\n",
      "INFO  [alembic.runtime.migration] Running upgrade da3f683c3a5a -> 92c57b58940d, Create FAB Tables\n",
      "INFO  [alembic.runtime.migration] Running upgrade 92c57b58940d -> 03afc6b6f902, Increase length of ``Flask-AppBuilder`` ``ab_view_menu.name`` column\n",
      "INFO  [alembic.runtime.migration] Running upgrade 03afc6b6f902 -> cf5dc11e79ad, Drop ``user`` and ``chart`` table\n",
      "INFO  [alembic.runtime.migration] Running upgrade cf5dc11e79ad -> bbf4a7ad0465, Remove id column from xcom\n",
      "INFO  [alembic.runtime.migration] Running upgrade bbf4a7ad0465 -> b25a55525161, Increase length of pool name\n",
      "INFO  [alembic.runtime.migration] Running upgrade b25a55525161 -> 3c20cacc0044, Add ``run_type`` column in ``dag_run`` table\n",
      "INFO  [alembic.runtime.migration] Running upgrade 3c20cacc0044 -> 8f966b9c467a, Set ``conn_type`` as non-nullable\n",
      "INFO  [alembic.runtime.migration] Running upgrade 8f966b9c467a -> 8d48763f6d53, Add unique constraint to ``conn_id``\n",
      "INFO  [alembic.runtime.migration] Running upgrade 8d48763f6d53 -> e38be357a868, Add ``sensor_instance`` table\n",
      "INFO  [alembic.runtime.migration] Running upgrade e38be357a868 -> b247b1e3d1ed, Add queued by Job ID to TI\n",
      "INFO  [alembic.runtime.migration] Running upgrade b247b1e3d1ed -> e1a11ece99cc, Add external executor ID to TI\n",
      "INFO  [alembic.runtime.migration] Running upgrade e1a11ece99cc -> bef4f3d11e8b, Drop ``KubeResourceVersion`` and ``KubeWorkerId``\n",
      "INFO  [alembic.runtime.migration] Running upgrade bef4f3d11e8b -> 98271e7606e2, Add ``scheduling_decision`` to ``DagRun`` and ``DAG``\n",
      "INFO  [alembic.runtime.migration] Running upgrade 98271e7606e2 -> 52d53670a240, fix_mssql_exec_date_rendered_task_instance_fields_for_MSSQL\n",
      "INFO  [alembic.runtime.migration] Running upgrade 52d53670a240 -> 364159666cbd, Add ``creating_job_id`` to ``DagRun`` table\n",
      "INFO  [alembic.runtime.migration] Running upgrade 364159666cbd -> 45ba3f1493b9, add-k8s-yaml-to-rendered-templates\n",
      "INFO  [alembic.runtime.migration] Running upgrade 45ba3f1493b9 -> 849da589634d, Prefix DAG permissions.\n",
      "INFO  [alembic.runtime.migration] Running upgrade 849da589634d -> 2c6edca13270, Resource based permissions.\n",
      "INFO  [alembic.runtime.migration] Running upgrade 2c6edca13270 -> 61ec73d9401f, Add description field to ``connection`` table\n",
      "INFO  [alembic.runtime.migration] Running upgrade 61ec73d9401f -> 64a7d6477aae, Fix description field in ``connection`` to be ``text``\n",
      "INFO  [alembic.runtime.migration] Running upgrade 64a7d6477aae -> e959f08ac86c, Change field in ``DagCode`` to ``MEDIUMTEXT`` for MySql\n",
      "INFO  [alembic.runtime.migration] Running upgrade e959f08ac86c -> 82b7c48c147f, Remove ``can_read`` permission on config resource for ``User`` and ``Viewer`` role\n",
      "INFO  [alembic.runtime.migration] Running upgrade 82b7c48c147f -> 449b4072c2da, Increase size of ``connection.extra`` field to handle multiple RSA keys\n",
      "INFO  [alembic.runtime.migration] Running upgrade 449b4072c2da -> 8646922c8a04, Change default ``pool_slots`` to ``1``\n",
      "INFO  [alembic.runtime.migration] Running upgrade 8646922c8a04 -> 2e42bb497a22, Rename ``last_scheduler_run`` column in ``DAG`` table to ``last_parsed_time``\n",
      "INFO  [alembic.runtime.migration] Running upgrade 2e42bb497a22 -> 90d1635d7b86, Increase maximum length of pool name in ``task_instance`` table to ``256`` characters\n",
      "INFO  [alembic.runtime.migration] Running upgrade 90d1635d7b86 -> e165e7455d70, Add description field to ``Variable`` model\n",
      "INFO  [alembic.runtime.migration] Running upgrade e165e7455d70 -> a13f7613ad25, Resource based permissions for default ``Flask-AppBuilder`` views\n",
      "INFO  [alembic.runtime.migration] Running upgrade a13f7613ad25 -> 97cdd93827b8, Add ``queued_at`` column in ``dag_run`` table\n",
      "INFO  [alembic.runtime.migration] Running upgrade 97cdd93827b8 -> 092435bf5d12, Add ``max_active_runs`` column to ``dag_model`` table\n",
      "INFO  [alembic.runtime.migration] Running upgrade 092435bf5d12 -> ccde3e26fe78, Add index on state, dag_id for queued ``dagrun``\n",
      "INFO  [alembic.runtime.migration] Running upgrade ccde3e26fe78 -> 83f031fd9f1c, Improve MSSQL compatibility\n",
      "INFO  [alembic.runtime.migration] Running upgrade 83f031fd9f1c -> e9304a3141f0, Make XCom primary key columns non-nullable\n",
      "INFO  [alembic.runtime.migration] Running upgrade e9304a3141f0 -> 30867afad44a, Rename ``concurrency`` column in ``dag`` table to`` max_active_tasks``\n",
      "INFO  [alembic.runtime.migration] Running upgrade 30867afad44a -> 54bebd308c5f, Adds ``trigger`` table and deferrable operator columns to task instance\n",
      "INFO  [alembic.runtime.migration] Running upgrade 54bebd308c5f -> 142555e44c17, Add data_interval_[start|end] to DagModel and DagRun.\n",
      "INFO  [alembic.runtime.migration] Running upgrade 142555e44c17 -> 7b2661a43ba3, Change ``TaskInstance`` and ``TaskReschedule`` tables from execution_date to run_id.\n",
      "/usr/local/lib/python3.7/dist-packages/airflow/migrations/versions/0093_2_2_0_taskinstance_keyed_to_dagrun.py:402 SAWarning: implicitly coercing SELECT object to scalar subquery; please use the .scalar_subquery() method to produce a scalar subquery.\n",
      "/usr/lib/python3.7/contextlib.py:119 SAWarning: Table '_alembic_tmp_task_instance' specifies columns 'task_id', 'dag_id' as primary_key=True, not matching locally specified columns 'dag_id', 'task_id', 'run_id'; setting the current primary key columns to 'dag_id', 'task_id', 'run_id'. This warning may become an exception in a future release\n",
      "INFO  [alembic.runtime.migration] Running upgrade 7b2661a43ba3 -> be2bfac3da23, Add has_import_errors column to DagModel\n",
      "INFO  [alembic.runtime.migration] Running upgrade be2bfac3da23 -> c381b21cb7e4, Create a ``session`` table to store web session data\n",
      "INFO  [alembic.runtime.migration] Running upgrade c381b21cb7e4 -> 587bdf053233, Add index for ``dag_id`` column in ``job`` table.\n",
      "INFO  [alembic.runtime.migration] Running upgrade 587bdf053233 -> 5e3ec427fdd3, Increase length of email and username in ``ab_user`` and ``ab_register_user`` table to ``256`` characters\n",
      "INFO  [alembic.runtime.migration] Running upgrade 5e3ec427fdd3 -> 786e3737b18f, Add ``timetable_description`` column to DagModel for UI.\n",
      "INFO  [alembic.runtime.migration] Running upgrade 786e3737b18f -> f9da662e7089, Add ``LogTemplate`` table to track changes to config values ``log_filename_template``\n",
      "INFO  [alembic.runtime.migration] Running upgrade f9da662e7089 -> e655c0453f75, Add ``map_index`` column to TaskInstance to identify task-mapping,\n",
      "and a ``task_map`` table to track mapping values from XCom.\n",
      "INFO  [alembic.runtime.migration] Running upgrade e655c0453f75 -> a3bcd0914482, add data_compressed to serialized_dag\n",
      "INFO  [alembic.runtime.migration] Running upgrade a3bcd0914482 -> c306b5b5ae4a, Switch XCom table to use ``run_id`` and add ``map_index``.\n",
      "INFO  [alembic.runtime.migration] Running upgrade c306b5b5ae4a -> c97c2ab6aa23, add callback request table\n",
      "INFO  [alembic.runtime.migration] Running upgrade c97c2ab6aa23 -> 4eaab2fe6582, Migrate RTIF to use run_id and map_index\n",
      "/usr/local/lib/python3.7/dist-packages/airflow/migrations/versions/0104_2_3_0_migrate_rtif_to_use_run_id_and_map_index.py:104 SAWarning: implicitly coercing SELECT object to scalar subquery; please use the .scalar_subquery() method to produce a scalar subquery.\n",
      "/usr/lib/python3.7/contextlib.py:119 SAWarning: TypeDecorator JSONField() will not produce a cache key because the ``cache_ok`` attribute is not set to True.  This can have significant performance implications including some performance degradations in comparison to prior SQLAlchemy versions.  Set this attribute to True if this type object's state is safe to use in a cache key, or False to disable this warning. (Background on this error at: https://sqlalche.me/e/14/cprf)\n",
      "INFO  [alembic.runtime.migration] Running upgrade 4eaab2fe6582 -> 48925b2719cb, Add map_index to TaskFail\n",
      "/usr/local/lib/python3.7/dist-packages/airflow/migrations/versions/0105_2_3_0_add_map_index_to_taskfail.py:102 SAWarning: implicitly coercing SELECT object to scalar subquery; please use the .scalar_subquery() method to produce a scalar subquery.\n",
      "INFO  [alembic.runtime.migration] Running upgrade 48925b2719cb -> 909884dea523, Update migration for FAB tables to add missing constraints\n",
      "INFO  [alembic.runtime.migration] Running upgrade 909884dea523 -> 75d5ed6c2b43, Add map_index to Log.\n",
      "INFO  [alembic.runtime.migration] Running upgrade 75d5ed6c2b43 -> b1b348e02d07, Update dag.default_view to grid\n",
      "INFO  [alembic.runtime.migration] Running upgrade b1b348e02d07 -> 1de7bc13c950, Add index for ``event`` column in ``log`` table.\n",
      "INFO  [alembic.runtime.migration] Running upgrade 1de7bc13c950 -> 3c94c427fdf6, Add cascade to dag_tag foreign key\n",
      "INFO  [alembic.runtime.migration] Running upgrade 3c94c427fdf6 -> f5fcbda3e651, Add indexes for CASCADE deletes on task_instance\n",
      "WARNI [airflow.models.crypto] empty cryptography key - values will not be stored encrypted.\n"
     ]
    }
   ],
   "source": [
    "%%bash\n",
    "pip -q install 'apache-airflow==2.3.3' \\\n",
    " --constraint \"https://raw.githubusercontent.com/apache/airflow/constraints-2.3.3/constraints-3.7.txt\"\n",
    "pip -q install ploomber soorgeon soopervisor\n",
    "pip -q install -r https://github.com/ploomber/ploomber/raw/master/requirements-colab.lock.txt\n",
    "\n",
    "export AIRFLOW__CORE__LOAD_EXAMPLES=False\n",
    "airflow db init\n",
    "airflow users create \\\n",
    "    --username ploomber \\\n",
    "    --firstname Peter \\\n",
    "    --lastname Parker \\\n",
    "    --role Admin \\\n",
    "    --email spiderman@superhero.org \\\n",
    "    --password ploomber"
   ]
  },
  {
   "cell_type": "markdown",
   "metadata": {
    "id": "-SF0Tv1KbJwV"
   },
   "source": [
    "## Preparing notebook and data\n",
    "\n",
    "We selected a logistic regression example from the [Titanic - Machine Learning from Disaster competition](https://www.kaggle.com/c/titanic) on Kaggle. We will download the notebook from the author's Github repository [mnassrib/Titanic-logistic-regression-with-python](https://github.com/mnassrib/Titanic-logistic-regression-with-python).\n",
    "\n",
    "The original notebook is available at: [Titanic: logistic regression with python | Kaggle](https://www.kaggle.com/code/mnassrib/titanic-logistic-regression-with-python)."
   ]
  },
  {
   "cell_type": "code",
   "execution_count": 2,
   "metadata": {
    "id": "-hX423QJZVEj"
   },
   "outputs": [],
   "source": [
    "%%bash\n",
    "wget -q https://github.com/mnassrib/Titanic-logistic-regression-with-python/raw/master/logistic_regression_python.ipynb\n",
    "mkdir data\n",
    "wget -q https://github.com/mnassrib/Titanic-logistic-regression-with-python/raw/master/data/test.csv -O data/test.csv\n",
    "wget -q https://github.com/mnassrib/Titanic-logistic-regression-with-python/raw/master/data/train.csv -O data/train.csv"
   ]
  },
  {
   "cell_type": "markdown",
   "metadata": {
    "id": "vSFDj2obJTIE"
   },
   "source": [
    "Before using soorgeon to refactor the notebook into ploomber pipelines, we make some minor changes to the notebook:\n",
    "* Ensure the original notebook is running. This is usually notebook-specific.\n",
    "> `sklearn.feature_selection.RFE()` needs explicit passing of function argument `n_features_to_select`\n",
    " * We replace `RFE(model, 8)` to `RFE(model, n_features_to_select=8)`\n",
    "\n",
    "* Soorgeon treats every H2 heading as starting point of a new task. We replace H1 headings to H2 headings.\n",
    "> We replace sections 1 and 2 to H2 headings (e.g. from `\"# 1.\"` to `\"## 1.\"`).\n",
    "---\n",
    "\n"
   ]
  },
  {
   "cell_type": "code",
   "execution_count": 3,
   "metadata": {
    "id": "4DcYH32gv7bk"
   },
   "outputs": [],
   "source": [
    "# Minor changes to the notebook:\n",
    "# * Only H2 headings are supported\n",
    "# * `RFE` needs explicit passing of function argument `n_features_to_select`\n",
    "replacements = {'\"# 1.':'\"## 1.', '\"# 2.':'\"## 2.', 'RFE(model, 8)': 'RFE(model, n_features_to_select=8)'}\n",
    "\n",
    "with open('logistic_regression_python.ipynb') as infile, open('nb.ipynb', 'w') as outfile:\n",
    "    for line in infile:\n",
    "        for src, target in replacements.items():\n",
    "            line = line.replace(src, target)\n",
    "        outfile.write(line)\n"
   ]
  },
  {
   "cell_type": "markdown",
   "metadata": {
    "id": "OXxubXdOZ6M8"
   },
   "source": [
    "## Convert monolithic Jupyter notebooks 📙 into maintainable Ploomber pipelines with Soorgeon"
   ]
  },
  {
   "cell_type": "markdown",
   "metadata": {
    "id": "jedZO2xSPkD8"
   },
   "source": [
    "### `Soorgeon refactor` will refactor the notebook into pipeline tasks in the `./tasks` folder."
   ]
  },
  {
   "cell_type": "code",
   "execution_count": 4,
   "metadata": {
    "colab": {
     "base_uri": "https://localhost:8080/"
    },
    "id": "xT9YyLMIaE8F",
    "outputId": "e86d912d-1ae5-447b-9a41-747db9e44001"
   },
   "outputs": [
    {
     "name": "stdout",
     "output_type": "stream",
     "text": [
      "Added 'output' directory to .gitignore...\n",
      "Added README.md\n",
      "Finished refactoring 'nb.ipynb', use Ploomber to continue.\n",
      "\n",
      "Install dependencies (this will install ploomber):\n",
      "    $ pip install -r requirements.txt\n",
      "\n",
      "List tasks:\n",
      "    $ ploomber status\n",
      "\n",
      "Execute pipeline:\n",
      "    $ ploomber build\n",
      "\n",
      "Plot pipeline:\n",
      "    $ ploomber plot\n",
      "\n",
      "* Documentation: https://docs.ploomber.io\n",
      "* Jupyter integration: https://ploomber.io/s/jupyter\n",
      "* Other editors: https://ploomber.io/s/editors\n",
      "\n"
     ]
    },
    {
     "name": "stderr",
     "output_type": "stream",
     "text": [
      "/usr/local/lib/python3.7/dist-packages/soorgeon/pyflakes.py:101: UserWarning: :4:1 'sklearn.preprocessing' imported but unused\n",
      ":160:1 'sklearn.metrics.classification_report' imported but unused\n",
      ":160:1 'sklearn.metrics.precision_score' imported but unused\n",
      ":160:1 'sklearn.metrics.recall_score' imported but unused\n",
      ":161:1 'sklearn.metrics.confusion_matrix' imported but unused\n",
      ":161:1 'sklearn.metrics.precision_recall_curve' imported but unused\n",
      "  warnings.warn(warnings_)\n"
     ]
    }
   ],
   "source": [
    "%%bash\n",
    "soorgeon refactor nb.ipynb"
   ]
  },
  {
   "cell_type": "markdown",
   "metadata": {
    "id": "MxYf3PI3MrhD"
   },
   "source": [
    "### Check out what is inside the `./tasks` folder"
   ]
  },
  {
   "cell_type": "code",
   "execution_count": 5,
   "metadata": {
    "colab": {
     "base_uri": "https://localhost:8080/"
    },
    "id": "uaqNn4STLoet",
    "outputId": "46ded41d-a625-4f85-e314-3ef8a75b58ba"
   },
   "outputs": [
    {
     "name": "stdout",
     "output_type": "stream",
     "text": [
      "section-1-import-data-python-packages.ipynb\n",
      "section-2-1-age-missing-values.ipynb\n",
      "section-2-2-cabin-missing-values.ipynb\n",
      "section-2-3-embarked-missing-values.ipynb\n",
      "section-2-4-1-additional-variables.ipynb\n",
      "section-2-4-final-adjustments-to-data-train-test-.ipynb\n",
      "section-2-data-quality-missing-value-assessment.ipynb\n",
      "section-3-1-exploration-of-age.ipynb\n",
      "section-3-2-exploration-of-fare.ipynb\n",
      "section-3-3-exploration-of-passenger-class.ipynb\n",
      "section-3-4-exploration-of-embarked-port.ipynb\n",
      "section-3-5-exploration-of-traveling-alone-vs-with-family.ipynb\n",
      "section-3-6-exploration-of-gender-variable.ipynb\n",
      "section-4-1-feature-selection.ipynb\n",
      "section-4-2-review-of-model-evaluation-procedures.ipynb\n",
      "section-4-3-gridsearchcv-evaluating-using-multiple-scorers-simultaneously.ipynb\n",
      "section-4-4-gridsearchcv-evaluating-using-multiple-scorers-repeatedstratifiedkfold-and-pipeline-for-preprocessing-simultaneously.ipynb\n"
     ]
    }
   ],
   "source": [
    "%%bash\n",
    "ls tasks"
   ]
  },
  {
   "cell_type": "markdown",
   "metadata": {
    "id": "bD1dMcXoXQtc"
   },
   "source": [
    "# Exposing pipelines to Airflow with Soopervisor\n",
    "\n",
    "```yaml\n",
    "airflow-bash:\n",
    "  backend: airflow\n",
    "  exclude: [output]\n",
    "  preset: bash\n",
    "  repository: your-repository/name\n",
    "```\n"
   ]
  },
  {
   "cell_type": "markdown",
   "metadata": {
    "id": "BsKBWLdHNDLx"
   },
   "source": [
    "### Configure target platform"
   ]
  },
  {
   "cell_type": "markdown",
   "metadata": {
    "id": "pr5SgCYIPxXX"
   },
   "source": [
    "* We use BashOperator as the target platform.\n",
    "\n",
    "* To configure output directory, we edit `env.yaml` to update the root variable For this example, let’s use one that we already configured.\n",
    "```yaml\n",
    "sample: False\n",
    "root: /content\n",
    "```\n",
    "* Edit the `cwd` argument in `BashOperator` (`airflow-bash/content.py`) so your DAG runs in a directory where it can import your project’s `pipeline.yaml` and source code. For this example, we will also do this for you.\n",
    "\n",
    "```python\n",
    "    BashOperator(\n",
    "        bash_command=task['command'],\n",
    "        task_id=task['name'],\n",
    "        dag=dag,\n",
    "        cwd=\"/content\" # add this line\n",
    "    )\n",
    "```\n"
   ]
  },
  {
   "cell_type": "code",
   "execution_count": 6,
   "metadata": {
    "colab": {
     "base_uri": "https://localhost:8080/"
    },
    "id": "SeSTgLOPantW",
    "outputId": "3245cf6a-84e5-42e7-b98b-e2e419b009b8"
   },
   "outputs": [
    {
     "name": "stdout",
     "output_type": "stream",
     "text": [
      "\u001b[34m================================= Loading DAG ==================================\u001b[0m\n",
      "No pipeline.airflow-bash.yaml found, looking for pipeline.yaml instead\n",
      "Found /content/pipeline.yaml. Loading...\n",
      "Exporting to Airflow...\n",
      "\u001b[34m=================== Adding /content/airflow-bash/bash.py... ====================\u001b[0m\n",
      "Airflow DAG declaration saved to 'airflow-bash/content.py', you may edit the file to change the configuration if needed, (e.g., set the execution period)\n",
      "\u001b[0m\u001b[34m================================= Loading DAG ==================================\u001b[0m\n",
      "No pipeline.airflow-bash.yaml found, looking for pipeline.yaml instead\n",
      "/usr/local/lib/python3.7/dist-packages/ploomber/spec/dagspec.py:393: UserWarning: The following placeholders are declared in the environment but unused in the spec: {'root', 'sample'}\n",
      "  warnings.warn('The following placeholders are declared in the '\n",
      "Found /content/pipeline.yaml. Loading...\n",
      "\u001b[34m================================= Loading DAG ==================================\u001b[0m\n",
      "No pipeline.airflow-bash.yaml found, looking for pipeline.yaml instead\n",
      "/usr/local/lib/python3.7/dist-packages/ploomber/spec/dagspec.py:393: UserWarning: The following placeholders are declared in the environment but unused in the spec: {'root', 'sample'}\n",
      "  warnings.warn('The following placeholders are declared in the '\n",
      "Found /content/pipeline.yaml. Loading...\n",
      "100% 17/17 [00:00<00:00, 6985.71it/s]\n",
      "\u001b[0m--2022-08-05 22:13:40--  https://github.com/94rain/projects/raw/airflow_example/guides/airflow/content.py\n",
      "Resolving github.com (github.com)... 140.82.112.4\n",
      "Connecting to github.com (github.com)|140.82.112.4|:443... connected.\n",
      "HTTP request sent, awaiting response... 302 Found\n",
      "Location: https://raw.githubusercontent.com/94rain/projects/airflow_example/guides/airflow/content.py [following]\n",
      "--2022-08-05 22:13:40--  https://raw.githubusercontent.com/94rain/projects/airflow_example/guides/airflow/content.py\n",
      "Resolving raw.githubusercontent.com (raw.githubusercontent.com)... 185.199.110.133, 185.199.109.133, 185.199.108.133, ...\n",
      "Connecting to raw.githubusercontent.com (raw.githubusercontent.com)|185.199.110.133|:443... connected.\n",
      "HTTP request sent, awaiting response... 200 OK\n",
      "Length: 746 [text/plain]\n",
      "Saving to: ‘airflow-bash/content.py’\n",
      "\n",
      "airflow-bash/conten 100%[===================>]     746  --.-KB/s    in 0s      \n",
      "\n",
      "2022-08-05 22:13:40 (32.4 MB/s) - ‘airflow-bash/content.py’ saved [746/746]\n",
      "\n"
     ]
    }
   ],
   "source": [
    "!pip freeze > requirements.lock.txt\n",
    "# use BashOperator as the target platform\n",
    "!soopervisor add airflow-bash --backend airflow --preset bash\n",
    "# configure output directory in `env.yaml`\n",
    "!wget https://github.com/ploomber/projects/raw/master/guides/airflow/env-airflow.yaml -O env.yaml -q\n",
    "!soopervisor export airflow-bash --skip-tests --ignore-git\n",
    "\n",
    "# Edit the cwd argument in BashOperator\n",
    "!wget https://github.com/ploomber/projects/raw/master/guides/airflow/content.py -O airflow-bash/content.py -q"
   ]
  },
  {
   "cell_type": "markdown",
   "metadata": {
    "id": "zc8WnXTAeKDy"
   },
   "source": [
    "### Submitting pipeline"
   ]
  },
  {
   "cell_type": "markdown",
   "metadata": {
    "id": "hClAzcQxCvKb"
   },
   "source": [
    "To execute the pipeline, move the generated files to your `AIRFLOW_HOME`. For this example, AIRFLOW_HOME is `~/airflow`"
   ]
  },
  {
   "cell_type": "code",
   "execution_count": 7,
   "metadata": {
    "id": "UWwuBYJIQprv"
   },
   "outputs": [],
   "source": [
    "%%bash\n",
    "mkdir -p ~/airflow/dags && cp airflow-bash/content.py ~/airflow/dags/content.py && cp airflow-bash/content.json ~/airflow/dags/content.json "
   ]
  },
  {
   "cell_type": "markdown",
   "metadata": {
    "id": "54TfzINLCoJx"
   },
   "source": [
    "Initize Airflow webserver and scheduler"
   ]
  },
  {
   "cell_type": "code",
   "execution_count": 8,
   "metadata": {
    "id": "3zzBF9iMCOHm"
   },
   "outputs": [],
   "source": [
    "%%bash\n",
    "# init webserver in the background\n",
    "airflow webserver --port 8080 > /airflow-webserver.log 2>&1 &\n",
    "\n",
    "# init scheduler in the background\n",
    "airflow scheduler > /airflow-scheduler.log 2>&1 &\n",
    "\n",
    "# sleep a bit to ensure the scheduler is ready\n",
    "sleep 10"
   ]
  },
  {
   "cell_type": "markdown",
   "metadata": {
    "id": "nR5qKoNuCyyC"
   },
   "source": [
    "Unpause the DAG then trigger the run:"
   ]
  },
  {
   "cell_type": "code",
   "execution_count": 9,
   "metadata": {
    "colab": {
     "base_uri": "https://localhost:8080/"
    },
    "id": "yezDULRLWuJN",
    "outputId": "694916dd-acf9-43ca-f60c-bd6ceb9341a1"
   },
   "outputs": [
    {
     "name": "stdout",
     "output_type": "stream",
     "text": [
      "Dag: content, paused: False\n"
     ]
    }
   ],
   "source": [
    "%%bash\n",
    "airflow dags unpause content"
   ]
  },
  {
   "cell_type": "code",
   "execution_count": 10,
   "metadata": {
    "colab": {
     "base_uri": "https://localhost:8080/"
    },
    "id": "LqImSUAvXBgc",
    "outputId": "dabefd8e-f26d-452b-f025-97363b461f79"
   },
   "outputs": [
    {
     "name": "stdout",
     "output_type": "stream",
     "text": [
      "[\u001b[34m2022-08-05 22:13:56,328\u001b[0m] {\u001b[34m__init__.py:\u001b[0m40} INFO\u001b[0m - Loaded API auth backend: airflow.api.auth.backend.session\u001b[0m\n",
      "Created <DagRun content @ 2022-08-05T22:13:56+00:00: manual__2022-08-05T22:13:56+00:00, externally triggered: True>\n"
     ]
    }
   ],
   "source": [
    "%%bash\n",
    "# Trigger execution\n",
    "airflow dags trigger content"
   ]
  },
  {
   "cell_type": "markdown",
   "metadata": {
    "id": "ZfN_fcfwcafB"
   },
   "source": [
    "## Monitoring execution status"
   ]
  },
  {
   "cell_type": "markdown",
   "metadata": {
    "id": "dH1QNc0SED57"
   },
   "source": [
    "Check all runs of one dag_id:\n",
    "\n",
    "`airflow dags list-runs -d {dag-id}`"
   ]
  },
  {
   "cell_type": "code",
   "execution_count": 12,
   "metadata": {
    "colab": {
     "base_uri": "https://localhost:8080/"
    },
    "id": "6cBF4ZTnQtUX",
    "outputId": "7159901e-cb6f-48b8-f3a2-19c13b74ed00"
   },
   "outputs": [
    {
     "name": "stdout",
     "output_type": "stream",
     "text": [
      "dag_id  | run_id                            | state   | execution_date            | start_date                       | end_date\n",
      "========+===================================+=========+===========================+==================================+=========\n",
      "content | manual__2022-08-05T22:13:56+00:00 | running | 2022-08-05T22:13:56+00:00 | 2022-08-05T22:13:57.755890+00:00 |         \n",
      "                                                                                                                               \n"
     ]
    }
   ],
   "source": [
    "%%bash\n",
    "airflow dags list-runs -d content"
   ]
  },
  {
   "cell_type": "markdown",
   "metadata": {
    "id": "RMWpyy3Cchb3"
   },
   "source": [
    "Running `airflow dags state {dag_id} {TIMESTAMP}` \n",
    "\n",
    "(Find the `TIMESTAMP` from the output of `airflow dags trigger content`)"
   ]
  },
  {
   "cell_type": "code",
   "execution_count": 13,
   "metadata": {
    "colab": {
     "base_uri": "https://localhost:8080/"
    },
    "id": "P6JnAyCMcgih",
    "outputId": "55f2e98b-59ed-4b55-c30e-62ca0b89d6ad"
   },
   "outputs": [
    {
     "name": "stdout",
     "output_type": "stream",
     "text": [
      "running\n"
     ]
    }
   ],
   "source": [
    "%%bash\n",
    "airflow dags state content 2022-08-05T22:13:56+00:00"
   ]
  },
  {
   "cell_type": "markdown",
   "metadata": {
    "id": "YRg67Xgk3gRq"
   },
   "source": [
    "## Where to go from here\n",
    "\n",
    "**Bring your own code!** Check out the tutorial to [migrate your code to Ploomber](https://docs.ploomber.io/en/latest/user-guide/refactoring.html) and [to expose Ploomber pipelines to Airflow, AWS Batch and Kubernetes](https://soopervisor.readthedocs.io/en/latest/).\n",
    "\n",
    "Have questions? [Ask us anything on Slack](https://ploomber.io/community/).\n",
    "\n",
    "Want to dig deeper into Ploomber's core concepts? Check out [the basic concepts tutorial](https://docs.ploomber.io/en/latest/get-started/basic-concepts.html).\n",
    "\n",
    "Want to start a new project quickly? Check out [how to get examples](https://docs.ploomber.io/en/latest/user-guide/templates.html).\n"
   ]
  }
 ],
 "metadata": {
  "colab": {
   "collapsed_sections": [],
   "name": "airflow.ipynb",
   "provenance": []
  },
  "gpuClass": "standard",
  "kernelspec": {
   "display_name": "Python 3 (ipykernel)",
   "language": "python",
   "name": "python3"
  },
  "language_info": {
   "codemirror_mode": {
    "name": "ipython",
    "version": 3
   },
   "file_extension": ".py",
   "mimetype": "text/x-python",
   "name": "python",
   "nbconvert_exporter": "python",
   "pygments_lexer": "ipython3",
   "version": "3.9.15"
  }
 },
 "nbformat": 4,
 "nbformat_minor": 4
}
